{
 "cells": [
  {
   "cell_type": "markdown",
   "metadata": {},
   "source": [
    "\n",
    "¡Hola!\n",
    "\n",
    "Mi nombre es Tonatiuh Cruz. Me complace revisar tu proyecto hoy.\n",
    "\n",
    "Al identificar cualquier error inicialmente, simplemente los destacaré. Te animo a localizar y abordar los problemas de forma independiente como parte de tu preparación para un rol como data-scientist. En un entorno profesional, tu líder de equipo seguiría un enfoque similar. Si encuentras la tarea desafiante, proporcionaré una pista más específica en la próxima iteración.\n",
    "\n",
    "Encontrarás mis comentarios a continuación - **por favor no los muevas, modifiques o elimines**.\n",
    "\n",
    "Puedes encontrar mis comentarios en cajas verdes, amarillas o rojas como esta:\n",
    "\n",
    "<div class=\"alert alert-block alert-success\">\n",
    "<b>Comentario del revisor</b> <a class=\"tocSkip\"></a>\n",
    "\n",
    "Éxito. Todo está hecho correctamente.\n",
    "</div>\n",
    "\n",
    "<div class=\"alert alert-block alert-warning\">\n",
    "<b>Comentario del revisor</b> <a class=\"tocSkip\"></a>\n",
    "\n",
    "Observaciones. Algunas recomendaciones.\n",
    "</div>\n",
    "\n",
    "<div class=\"alert alert-block alert-danger\">\n",
    "<b>Comentario del revisor</b> <a class=\"tocSkip\"></a>\n",
    "\n",
    "Necesita corrección. El bloque requiere algunas correcciones. El trabajo no puede ser aceptado con comentarios en rojo.\n",
    "</div>\n",
    "\n",
    "Puedes responderme utilizando esto:\n",
    "\n",
    "<div class=\"alert alert-block alert-info\">\n",
    "<b>Respuesta del estudiante.</b> <a class=\"tocSkip\"></a>"
   ]
  },
  {
   "cell_type": "markdown",
   "metadata": {
    "id": "3rYiDeEH0q0f"
   },
   "source": [
    "# ¿Cuál es la mejor tarifa?\n",
    "\n",
    "Trabajas como analista para el operador de telecomunicaciones Megaline. La empresa ofrece a sus clientes dos tarifas de prepago, Surf y Ultimate. El departamento comercial quiere saber cuál de las tarifas genera más ingresos para poder ajustar el presupuesto de publicidad.\n",
    "\n",
    "Vas a realizar un análisis preliminar de las tarifas basado en una selección de clientes relativamente pequeña. Tendrás los datos de 500 clientes de Megaline: quiénes son los clientes, de dónde son, qué tarifa usan, así como la cantidad de llamadas que hicieron y los mensajes de texto que enviaron en 2018. Tu trabajo es analizar el comportamiento de los clientes y determinar qué tarifa de prepago genera más ingresos."
   ]
  },
  {
   "cell_type": "markdown",
   "metadata": {},
   "source": [
    "La idea de analizar esta informacion proporcionada por la empresa Megaline es estudiar cual de los dos\n",
    "planes de telefonia que ofrece (Surf, Ultimate) es mejor en terminos de ingresos; si podemos concluir\n",
    "correctamente cual de los 2 planes genera mas ingresos entonces la empresa podra tomar decisiones con \n",
    "respecto al presupuesto asignado al departamento de marketing. Para lograr analizar y concluir la infomracion\n",
    "lo primero es analizar la informacion brindada minusiosamente para conocer los datos y saber con que se\n",
    "esta trabajando,ademas para detectar cualquier tipo de error que pueda interferir en el analisis correcto\n",
    "de la informacion. Este analisis se hara a traves de hipotesis que probaremos con el analisis de datos\n",
    "y al final podremos tener un panorama mas claro de que en cual plan la empresa Megaline deberia invertir\n",
    "mas presupuesto para marketing."
   ]
  },
  {
   "cell_type": "markdown",
   "metadata": {
    "id": "MQi4IPy70q0y"
   },
   "source": [
    "## Inicialización"
   ]
  },
  {
   "cell_type": "code",
   "execution_count": 1,
   "metadata": {
    "id": "MtYIuBxu0q0z"
   },
   "outputs": [],
   "source": [
    "# Cargar todas las librerías\n",
    "import pandas as pd\n",
    "import numpy as np\n",
    "from scipy import stats\n",
    "from scipy.stats import ttest_ind\n",
    "import matplotlib.pyplot as plt\n",
    "import seaborn as sns\n"
   ]
  },
  {
   "cell_type": "markdown",
   "metadata": {
    "id": "4ysWWC5i0q00"
   },
   "source": [
    "## Cargar datos"
   ]
  },
  {
   "cell_type": "code",
   "execution_count": 2,
   "metadata": {
    "id": "CCqPW7rS0q01"
   },
   "outputs": [],
   "source": [
    "# Carga los archivos de datos en diferentes DataFrames\n",
    "calls=pd.read_csv('/datasets/megaline_calls.csv')\n",
    "internet=pd.read_csv('/datasets/megaline_internet.csv')\n",
    "messages=pd.read_csv('/datasets/megaline_messages.csv')\n",
    "plans=pd.read_csv('/datasets/megaline_plans.csv')\n",
    "users=pd.read_csv('/datasets/megaline_users.csv')"
   ]
  },
  {
   "cell_type": "markdown",
   "metadata": {},
   "source": [
    "<div class=\"alert alert-block alert-success\">\n",
    "<b>Comentario del revisor:</b> <a class=\"tocSkip\"></a>\n",
    "    \n",
    "Has realizado un excelente trabajo al importar los datos y las bibliotecas necesarias.\n",
    "\n",
    "</div>"
   ]
  },
  {
   "cell_type": "markdown",
   "metadata": {
    "id": "69qqoJ3r0q01"
   },
   "source": [
    "## Preparar los datos"
   ]
  },
  {
   "cell_type": "markdown",
   "metadata": {
    "id": "vUuZw80S0q01"
   },
   "source": [
    "[Los datos para este proyecto se dividen en varias tablas. Explora cada una para tener una comprensión inicial de los datos. Si es necesario, haz las correcciones requeridas en cada tabla.]"
   ]
  },
  {
   "cell_type": "markdown",
   "metadata": {
    "id": "ohBhimvH0q01"
   },
   "source": [
    "## Tarifas"
   ]
  },
  {
   "cell_type": "code",
   "execution_count": 3,
   "metadata": {
    "id": "GptqP3Q40q02",
    "scrolled": true
   },
   "outputs": [
    {
     "name": "stdout",
     "output_type": "stream",
     "text": [
      "<class 'pandas.core.frame.DataFrame'>\n",
      "RangeIndex: 2 entries, 0 to 1\n",
      "Data columns (total 8 columns):\n",
      " #   Column                 Non-Null Count  Dtype  \n",
      "---  ------                 --------------  -----  \n",
      " 0   messages_included      2 non-null      int64  \n",
      " 1   mb_per_month_included  2 non-null      int64  \n",
      " 2   minutes_included       2 non-null      int64  \n",
      " 3   usd_monthly_pay        2 non-null      int64  \n",
      " 4   usd_per_gb             2 non-null      int64  \n",
      " 5   usd_per_message        2 non-null      float64\n",
      " 6   usd_per_minute         2 non-null      float64\n",
      " 7   plan_name              2 non-null      object \n",
      "dtypes: float64(2), int64(5), object(1)\n",
      "memory usage: 256.0+ bytes\n"
     ]
    }
   ],
   "source": [
    "# Imprime la información general/resumida sobre el DataFrame de las tarifas\n",
    "plans.info()\n",
    "\n"
   ]
  },
  {
   "cell_type": "code",
   "execution_count": 4,
   "metadata": {
    "id": "64xzjwL70q02"
   },
   "outputs": [
    {
     "name": "stdout",
     "output_type": "stream",
     "text": [
      "No hay valores ausentes en este dataframe\n",
      "No hay valores duplicados en este dataframe\n",
      "   messages_included  mb_per_month_included  minutes_included  \\\n",
      "0                 50                  15360               500   \n",
      "1               1000                  30720              3000   \n",
      "\n",
      "   usd_monthly_pay  usd_per_gb  usd_per_message  usd_per_minute plan_name  \n",
      "0               20          10             0.03            0.03      surf  \n",
      "1               70           7             0.01            0.01  ultimate  \n"
     ]
    }
   ],
   "source": [
    "# Imprime una muestra de los datos para las tarifas\n",
    "missing_values=plans.isnull().sum()\n",
    "\n",
    "if missing_values.sum()==0:\n",
    "    print('No hay valores ausentes en este dataframe')\n",
    "else:\n",
    "    print(missing_values)\n",
    "    \n",
    "duplicate_values=plans.duplicated().sum()\n",
    "\n",
    "if duplicate_values.sum()==0:\n",
    "    print('No hay valores duplicados en este dataframe')\n",
    "else:\n",
    "    print(duplicate_values)\n",
    "    \n",
    "print(plans.head())"
   ]
  },
  {
   "cell_type": "markdown",
   "metadata": {},
   "source": [
    "Segun esta revision de datos ausentes y datos duplicados en el DataFrame Plans, no hay ningun problema\n",
    "con los datos. Las columnas tienen el tipo adecuado de datos siendo estos float64 para el valor en USD \n",
    "de cada mensaje y llamada; int64 para los numeros de mensajes y minutos en llamadas incluidas en cada\n",
    "plan y tipo object para el nombre del plan."
   ]
  },
  {
   "cell_type": "markdown",
   "metadata": {
    "id": "R3C05i1l0q03"
   },
   "source": [
    "## Corregir datos"
   ]
  },
  {
   "cell_type": "markdown",
   "metadata": {},
   "source": [
    "Segun los analisis que hice anteriormente, no tengo datos por corregir en el DataFrame 'plans'."
   ]
  },
  {
   "cell_type": "markdown",
   "metadata": {
    "id": "LJir7bml0q03"
   },
   "source": [
    "## Enriquecer los datos"
   ]
  },
  {
   "cell_type": "markdown",
   "metadata": {
    "id": "gfcIEuXV0q04"
   },
   "source": [
    "No agregaria valores adicionales en esta tabla de 'plans', pero lo mas probable que utilice los datos de esta tabla para enriquecer otras tablas que contengan mas informacion trabajable, como por ejemplo'users'.\n",
    "Sin embargo, voy a convertir la columna mb_per_month_included de MB a GB para un analisis mas exacto.\n"
   ]
  },
  {
   "cell_type": "code",
   "execution_count": 5,
   "metadata": {},
   "outputs": [
    {
     "name": "stdout",
     "output_type": "stream",
     "text": [
      "<class 'pandas.core.frame.DataFrame'>\n",
      "RangeIndex: 2 entries, 0 to 1\n",
      "Data columns (total 8 columns):\n",
      " #   Column                 Non-Null Count  Dtype  \n",
      "---  ------                 --------------  -----  \n",
      " 0   messages_included      2 non-null      int64  \n",
      " 1   minutes_included       2 non-null      int64  \n",
      " 2   usd_monthly_pay        2 non-null      int64  \n",
      " 3   usd_per_gb             2 non-null      int64  \n",
      " 4   usd_per_message        2 non-null      float64\n",
      " 5   usd_per_minute         2 non-null      float64\n",
      " 6   plan_name              2 non-null      object \n",
      " 7   gb_per_month_included  2 non-null      float64\n",
      "dtypes: float64(3), int64(4), object(1)\n",
      "memory usage: 256.0+ bytes\n"
     ]
    }
   ],
   "source": [
    "plans['gb_per_month_included'] = plans['mb_per_month_included']/1024\n",
    "plans.drop('mb_per_month_included',axis=1,inplace=True)\n",
    "plans.info()"
   ]
  },
  {
   "cell_type": "markdown",
   "metadata": {},
   "source": [
    "\n",
    "<div class=\"alert alert-block alert-warning\">\n",
    "<b>Comentario Revisor</b> <a class=\"tocSkip\"></a>\n",
    "\n",
    "Muy buen trabajo, solamente te sugiero que en este apartado menciones un poco sobre la transformación que se debe realizar de megabytes a gigabytes. \n",
    "</div>"
   ]
  },
  {
   "cell_type": "markdown",
   "metadata": {},
   "source": [
    "<div class=\"alert alert-block alert-success\">\n",
    "<b>Comentario del revisor</b> <a class=\"tocSkip\"></a>\n",
    "\n",
    "Muy buen trabajo con los ajustes!\n",
    "</div>"
   ]
  },
  {
   "cell_type": "markdown",
   "metadata": {
    "id": "1n2X6WXf0q04"
   },
   "source": [
    "## Usuarios/as"
   ]
  },
  {
   "cell_type": "code",
   "execution_count": 6,
   "metadata": {
    "id": "2NgjWFqx0q05",
    "scrolled": false
   },
   "outputs": [
    {
     "name": "stdout",
     "output_type": "stream",
     "text": [
      "<class 'pandas.core.frame.DataFrame'>\n",
      "RangeIndex: 500 entries, 0 to 499\n",
      "Data columns (total 8 columns):\n",
      " #   Column      Non-Null Count  Dtype \n",
      "---  ------      --------------  ----- \n",
      " 0   user_id     500 non-null    int64 \n",
      " 1   first_name  500 non-null    object\n",
      " 2   last_name   500 non-null    object\n",
      " 3   age         500 non-null    int64 \n",
      " 4   city        500 non-null    object\n",
      " 5   reg_date    500 non-null    object\n",
      " 6   plan        500 non-null    object\n",
      " 7   churn_date  34 non-null     object\n",
      "dtypes: int64(2), object(6)\n",
      "memory usage: 31.4+ KB\n"
     ]
    }
   ],
   "source": [
    "# Imprime la información general/resumida sobre el DataFrame de usuarios\n",
    "users.info()\n",
    "\n"
   ]
  },
  {
   "cell_type": "code",
   "execution_count": 7,
   "metadata": {
    "id": "1IN1L9uh0q05"
   },
   "outputs": [
    {
     "name": "stdout",
     "output_type": "stream",
     "text": [
      "Estos son los valores ausentes: user_id         0\n",
      "first_name      0\n",
      "last_name       0\n",
      "age             0\n",
      "city            0\n",
      "reg_date        0\n",
      "plan            0\n",
      "churn_date    466\n",
      "dtype: int64\n",
      "No hay valores duplicados en este DatFrame\n",
      "   user_id first_name  last_name  age                                   city  \\\n",
      "0     1000   Anamaria      Bauer   45  Atlanta-Sandy Springs-Roswell, GA MSA   \n",
      "1     1001     Mickey  Wilkerson   28        Seattle-Tacoma-Bellevue, WA MSA   \n",
      "2     1002     Carlee    Hoffman   36   Las Vegas-Henderson-Paradise, NV MSA   \n",
      "3     1003   Reynaldo    Jenkins   52                          Tulsa, OK MSA   \n",
      "4     1004    Leonila   Thompson   40        Seattle-Tacoma-Bellevue, WA MSA   \n",
      "\n",
      "     reg_date      plan churn_date  \n",
      "0  2018-12-24  ultimate        NaN  \n",
      "1  2018-08-13      surf        NaN  \n",
      "2  2018-10-21      surf        NaN  \n",
      "3  2018-01-28      surf        NaN  \n",
      "4  2018-05-23      surf        NaN  \n"
     ]
    }
   ],
   "source": [
    "# Imprime una muestra de datos para usuarios\n",
    "missing_values=users.isnull().sum()\n",
    "if missing_values.sum()==0:\n",
    "    print('No hay valores ausentes en este DataFrame')\n",
    "else:\n",
    "    print('Estos son los valores ausentes:',missing_values)\n",
    "duplicate_values=users.duplicated().sum()\n",
    "if duplicate_values.sum()==0:\n",
    "    print('No hay valores duplicados en este DatFrame')\n",
    "else:\n",
    "    print(duplicate_values)\n",
    "print(users.head())\n"
   ]
  },
  {
   "cell_type": "markdown",
   "metadata": {},
   "source": [
    "En la informacion resumida del DataFrame 'users' encuentro que la mayoria de los datos parecen tener el tipo adecuado de acuerdo a la informacion, a excepcion de las columnas 'churn_date' y 'reg_date' deberian tener tipo 'datetime' como tipo de datos, ya que es informacion en terminos de fechas. Sin embargo, en el siguiente codigo para ejecutar la muestra, reviso si existen algunos valores nulos y/o duplicados, para saber si tengo algo que corregir;ya que contemplo la posibilidad de que la columna 'reg_date'tenga valores nulos para los clientes que siguen vigentes utilizando los servicios de Megaline. Despues de revisar lo anteriormente mencionado, encuentro que las columnas 'churn_date' tiene valores ausentes, sin embargo no es muy grave, ya que podria concluir que los valores ausentes son los clientes que aun estan vigentes usando alguno de los planes de Megaline."
   ]
  },
  {
   "cell_type": "markdown",
   "metadata": {
    "id": "BX5FQh_I0q06"
   },
   "source": [
    "### Corregir los datos"
   ]
  },
  {
   "cell_type": "markdown",
   "metadata": {},
   "source": [
    "Voy a organizar la base de datos para poder analizar informacion mas adelante de las columnas 'churn_date' y 'reg_date' convirtiendo el tipo de datos de estas columnas a 'datetime'. Ademas voy a agregar una columna llamada 'month' que sera util a la hora de fusionar las bases de datos."
   ]
  },
  {
   "cell_type": "code",
   "execution_count": 8,
   "metadata": {
    "id": "yUqX-K0C0q07",
    "scrolled": true
   },
   "outputs": [
    {
     "name": "stdout",
     "output_type": "stream",
     "text": [
      "user_id        int64\n",
      "first_name    object\n",
      "last_name     object\n",
      "age            int64\n",
      "city          object\n",
      "reg_date      object\n",
      "plan          object\n",
      "churn_date    object\n",
      "dtype: object\n"
     ]
    }
   ],
   "source": [
    "print(users.dtypes)\n",
    "\n"
   ]
  },
  {
   "cell_type": "code",
   "execution_count": 9,
   "metadata": {},
   "outputs": [
    {
     "name": "stdout",
     "output_type": "stream",
     "text": [
      "Possible format: YYYY-MM-DD\n"
     ]
    }
   ],
   "source": [
    "sample_date = users['reg_date'].iloc[0]\n",
    "try:\n",
    "    year, month, day = sample_date.split('-')\n",
    "    print(f\"Possible format: YYYY-MM-DD\")\n",
    "except ValueError:\n",
    "    pass\n",
    "try:\n",
    "     month, day, year = sample_date.split('/')\n",
    "     print(f\"Possible format: MM-DD-YYYY\")\n",
    "except ValueError:\n",
    "     pass\n",
    "      "
   ]
  },
  {
   "cell_type": "code",
   "execution_count": 10,
   "metadata": {},
   "outputs": [],
   "source": [
    "users['reg_date'] = pd.to_datetime(users['reg_date'], format='%Y-%m-%d')\n",
    "users['churn_date'] = pd.to_datetime(users['churn_date'], format='%Y-%m-%d')\n",
    "users['month'] = users['reg_date'].dt.month"
   ]
  },
  {
   "cell_type": "code",
   "execution_count": 11,
   "metadata": {},
   "outputs": [],
   "source": [
    "users['month'] = pd.to_datetime(users['month'], format='%m')"
   ]
  },
  {
   "cell_type": "code",
   "execution_count": 12,
   "metadata": {},
   "outputs": [
    {
     "name": "stdout",
     "output_type": "stream",
     "text": [
      "<class 'pandas.core.frame.DataFrame'>\n",
      "RangeIndex: 500 entries, 0 to 499\n",
      "Data columns (total 9 columns):\n",
      " #   Column      Non-Null Count  Dtype         \n",
      "---  ------      --------------  -----         \n",
      " 0   user_id     500 non-null    int64         \n",
      " 1   first_name  500 non-null    object        \n",
      " 2   last_name   500 non-null    object        \n",
      " 3   age         500 non-null    int64         \n",
      " 4   city        500 non-null    object        \n",
      " 5   reg_date    500 non-null    datetime64[ns]\n",
      " 6   plan        500 non-null    object        \n",
      " 7   churn_date  34 non-null     datetime64[ns]\n",
      " 8   month       500 non-null    datetime64[ns]\n",
      "dtypes: datetime64[ns](3), int64(2), object(4)\n",
      "memory usage: 35.3+ KB\n"
     ]
    }
   ],
   "source": [
    "users.info()"
   ]
  },
  {
   "cell_type": "markdown",
   "metadata": {
    "id": "ycwuARJp0q07"
   },
   "source": [
    "### Enriquecer los datos"
   ]
  },
  {
   "cell_type": "markdown",
   "metadata": {
    "id": "iq0AaBS90q08"
   },
   "source": [
    "No voy a unir bases de datos por ahora"
   ]
  },
  {
   "cell_type": "markdown",
   "metadata": {
    "id": "o7MeKCid0q08"
   },
   "source": [
    "## Llamadas"
   ]
  },
  {
   "cell_type": "code",
   "execution_count": 13,
   "metadata": {
    "id": "6dDlnoDm0q08",
    "scrolled": true
   },
   "outputs": [
    {
     "name": "stdout",
     "output_type": "stream",
     "text": [
      "<class 'pandas.core.frame.DataFrame'>\n",
      "RangeIndex: 137735 entries, 0 to 137734\n",
      "Data columns (total 4 columns):\n",
      " #   Column     Non-Null Count   Dtype  \n",
      "---  ------     --------------   -----  \n",
      " 0   id         137735 non-null  object \n",
      " 1   user_id    137735 non-null  int64  \n",
      " 2   call_date  137735 non-null  object \n",
      " 3   duration   137735 non-null  float64\n",
      "dtypes: float64(1), int64(1), object(2)\n",
      "memory usage: 4.2+ MB\n"
     ]
    }
   ],
   "source": [
    "# Imprime la información general/resumida sobre el DataFrame de las llamadas\n",
    "calls.info()\n",
    "\n"
   ]
  },
  {
   "cell_type": "code",
   "execution_count": 14,
   "metadata": {
    "id": "kuh1vlNB0q09"
   },
   "outputs": [
    {
     "name": "stdout",
     "output_type": "stream",
     "text": [
      "No hay valores ausentes en este DataFrame\n",
      "No hay valores duplicados en este DataFrame\n",
      "         id  user_id   call_date  duration\n",
      "0   1000_93     1000  2018-12-27      8.52\n",
      "1  1000_145     1000  2018-12-27     13.66\n",
      "2  1000_247     1000  2018-12-27     14.48\n",
      "3  1000_309     1000  2018-12-28      5.76\n",
      "4  1000_380     1000  2018-12-30      4.22\n"
     ]
    }
   ],
   "source": [
    "# Imprime una muestra de datos para las llamadas\n",
    "missing_values=calls.isnull().sum()\n",
    "if missing_values.sum()==0:\n",
    "    print('No hay valores ausentes en este DataFrame')\n",
    "else:\n",
    "    print('Estos son los valores ausentes:',missing_values)\n",
    "duplicate_values=calls.duplicated().sum()\n",
    "if duplicate_values.sum()==0:\n",
    "    print('No hay valores duplicados en este DataFrame')\n",
    "else:\n",
    "    print('Estos son los valores ausentes:',duplicate_values)\n",
    "print(calls.head())\n",
    "\n"
   ]
  },
  {
   "cell_type": "markdown",
   "metadata": {},
   "source": [
    "Despues de analizar la base de datos 'calls' no encontre valores ausentes o duplicados; sin embargo, encontre que la columna 'call_date' tiene un tipo de datos 'object' lo que en un futuro no me permitira analizar la informacion adecuadamente, por lo tanto deberia cambiar estos datos a tipo 'datetime'."
   ]
  },
  {
   "cell_type": "markdown",
   "metadata": {
    "id": "S7hzxmbX0q0-"
   },
   "source": [
    "### Corregir los datos"
   ]
  },
  {
   "cell_type": "code",
   "execution_count": 15,
   "metadata": {
    "id": "S2r8xA4f0q0-"
   },
   "outputs": [
    {
     "data": {
      "text/plain": [
       "id            object\n",
       "user_id        int64\n",
       "call_date     object\n",
       "duration     float64\n",
       "dtype: object"
      ]
     },
     "execution_count": 15,
     "metadata": {},
     "output_type": "execute_result"
    }
   ],
   "source": [
    "calls.dtypes\n",
    "\n"
   ]
  },
  {
   "cell_type": "code",
   "execution_count": 16,
   "metadata": {},
   "outputs": [
    {
     "data": {
      "text/plain": [
       "id                   object\n",
       "user_id               int64\n",
       "call_date    datetime64[ns]\n",
       "duration            float64\n",
       "dtype: object"
      ]
     },
     "execution_count": 16,
     "metadata": {},
     "output_type": "execute_result"
    }
   ],
   "source": [
    "#convertir 'call_date a datetime\n",
    "calls['call_date'] = pd.to_datetime(calls['call_date'])\n",
    "calls.dtypes"
   ]
  },
  {
   "cell_type": "code",
   "execution_count": 17,
   "metadata": {},
   "outputs": [],
   "source": [
    "calls['month'] = calls['call_date'].dt.month\n",
    "calls['month'] = pd.to_datetime(calls['month'], format='%m')"
   ]
  },
  {
   "cell_type": "code",
   "execution_count": 18,
   "metadata": {},
   "outputs": [
    {
     "name": "stdout",
     "output_type": "stream",
     "text": [
      "<class 'pandas.core.frame.DataFrame'>\n",
      "RangeIndex: 137735 entries, 0 to 137734\n",
      "Data columns (total 5 columns):\n",
      " #   Column     Non-Null Count   Dtype         \n",
      "---  ------     --------------   -----         \n",
      " 0   id         137735 non-null  object        \n",
      " 1   user_id    137735 non-null  int64         \n",
      " 2   call_date  137735 non-null  datetime64[ns]\n",
      " 3   duration   137735 non-null  float64       \n",
      " 4   month      137735 non-null  datetime64[ns]\n",
      "dtypes: datetime64[ns](2), float64(1), int64(1), object(1)\n",
      "memory usage: 5.3+ MB\n"
     ]
    }
   ],
   "source": [
    "calls.info()"
   ]
  },
  {
   "cell_type": "markdown",
   "metadata": {
    "id": "KrMgTrlG0q0_"
   },
   "source": [
    "### Enriquecer los datos"
   ]
  },
  {
   "cell_type": "markdown",
   "metadata": {
    "id": "iZ1avpA_0q0_"
   },
   "source": [
    "No voy a modificar ni unir ninguna otra base de datos aqui. Las llamadas con duracion 0 podrian tener varias razones en este punto del analisis: \n",
    "1. Podrian considerarse llamdas no contestadas o fallidas, lo que significa que incluso pudieron ser cortadas inmediatamente despues de iniciadas\n",
    "2. Tambien podrian ser un registro de eventyo del sistema, para contar los intentos de llamadas, incluso si no se completan o se abandonan\n",
    "3. Estas llamadas podrian tambien representar errores en la base de datos causados por errrores tecnicos\n",
    "4. Estas llamdas con duracion 0 tambien podrian significar marcaciones accidentales."
   ]
  },
  {
   "cell_type": "markdown",
   "metadata": {},
   "source": [
    "<div class=\"alert alert-block alert-warning\">\n",
    "<b>Comentario Revisor</b> <a class=\"tocSkip\"></a>\n",
    "\n",
    "Qué podríamos decir hasta el momento de las llamadas que tienen una duración de 0?\n",
    "</div>"
   ]
  },
  {
   "cell_type": "markdown",
   "metadata": {},
   "source": [
    "<div class=\"alert alert-block alert-success\">\n",
    "<b>Comentario del revisor</b> <a class=\"tocSkip\"></a>\n",
    "\n",
    "Muy buen trabajo con los ajustes!\n",
    "</div>"
   ]
  },
  {
   "cell_type": "markdown",
   "metadata": {
    "id": "mOUZSi180q0_"
   },
   "source": [
    "## Mensajes"
   ]
  },
  {
   "cell_type": "code",
   "execution_count": 19,
   "metadata": {
    "id": "R-bYJpdV0q1A"
   },
   "outputs": [
    {
     "name": "stdout",
     "output_type": "stream",
     "text": [
      "<class 'pandas.core.frame.DataFrame'>\n",
      "RangeIndex: 76051 entries, 0 to 76050\n",
      "Data columns (total 3 columns):\n",
      " #   Column        Non-Null Count  Dtype \n",
      "---  ------        --------------  ----- \n",
      " 0   id            76051 non-null  object\n",
      " 1   user_id       76051 non-null  int64 \n",
      " 2   message_date  76051 non-null  object\n",
      "dtypes: int64(1), object(2)\n",
      "memory usage: 1.7+ MB\n"
     ]
    }
   ],
   "source": [
    "# Imprime la información general/resumida sobre el DataFrame de los mensajes\n",
    "messages.info()\n",
    "\n"
   ]
  },
  {
   "cell_type": "code",
   "execution_count": 20,
   "metadata": {
    "id": "mCEl2iGE0q1A"
   },
   "outputs": [
    {
     "name": "stdout",
     "output_type": "stream",
     "text": [
      "No hay valores ausentes en este DataFrame\n",
      "No hay valores duplicados en este DataFrame\n",
      "         id  user_id message_date\n",
      "0  1000_125     1000   2018-12-27\n",
      "1  1000_160     1000   2018-12-31\n",
      "2  1000_223     1000   2018-12-31\n",
      "3  1000_251     1000   2018-12-27\n",
      "4  1000_255     1000   2018-12-26\n"
     ]
    }
   ],
   "source": [
    "# Imprime una muestra de datos para los mensajes\n",
    "missing_values=messages.isnull().sum()\n",
    "if missing_values.sum()==0:\n",
    "    print('No hay valores ausentes en este DataFrame')\n",
    "else:\n",
    "    print('Estos son los valores ausentes:',missing_values)\n",
    "duplicate_values=messages.duplicated().sum()\n",
    "if duplicate_values.sum()==0:\n",
    "    print('No hay valores duplicados en este DataFrame')\n",
    "else:\n",
    "    print('Estos son los valores ausentes:',duplicate_values)\n",
    "print(messages.head())\n"
   ]
  },
  {
   "cell_type": "markdown",
   "metadata": {},
   "source": [
    "No encontre datos ausentes y tampoco datos nulos; pero la columna 'message_date' es tipo object y deberia ser tipo 'datetime'para un mejor analisis de la informacion"
   ]
  },
  {
   "cell_type": "markdown",
   "metadata": {
    "id": "Sprfak900q1B"
   },
   "source": [
    "### Corregir los datos"
   ]
  },
  {
   "cell_type": "code",
   "execution_count": 21,
   "metadata": {},
   "outputs": [
    {
     "name": "stdout",
     "output_type": "stream",
     "text": [
      "id              object\n",
      "user_id          int64\n",
      "message_date    object\n",
      "dtype: object\n"
     ]
    }
   ],
   "source": [
    "#verificar de nuevo los tipo de datos\n",
    "print(messages.dtypes)"
   ]
  },
  {
   "cell_type": "code",
   "execution_count": 22,
   "metadata": {},
   "outputs": [
    {
     "name": "stdout",
     "output_type": "stream",
     "text": [
      "id                      object\n",
      "user_id                  int64\n",
      "message_date    datetime64[ns]\n",
      "dtype: object\n"
     ]
    }
   ],
   "source": [
    "#convertir la columna 'messages_date' a tipo datetime\n",
    "messages['message_date'] = pd.to_datetime(messages['message_date'])\n",
    "print(messages.dtypes)\n"
   ]
  },
  {
   "cell_type": "code",
   "execution_count": 23,
   "metadata": {},
   "outputs": [
    {
     "name": "stdout",
     "output_type": "stream",
     "text": [
      "<class 'pandas.core.frame.DataFrame'>\n",
      "RangeIndex: 76051 entries, 0 to 76050\n",
      "Data columns (total 4 columns):\n",
      " #   Column        Non-Null Count  Dtype         \n",
      "---  ------        --------------  -----         \n",
      " 0   id            76051 non-null  object        \n",
      " 1   user_id       76051 non-null  int64         \n",
      " 2   message_date  76051 non-null  datetime64[ns]\n",
      " 3   month         76051 non-null  datetime64[ns]\n",
      "dtypes: datetime64[ns](2), int64(1), object(1)\n",
      "memory usage: 2.3+ MB\n"
     ]
    }
   ],
   "source": [
    "messages['month'] = messages['message_date'].dt.month\n",
    "messages['month'] = pd.to_datetime(messages['month'], format='%m')\n",
    "messages.info()"
   ]
  },
  {
   "cell_type": "markdown",
   "metadata": {
    "id": "HvLid7iD0q1B"
   },
   "source": [
    "### Enriquecer los datos"
   ]
  },
  {
   "cell_type": "markdown",
   "metadata": {},
   "source": [
    "No voy a agregar o modificar nada en esta base de datos."
   ]
  },
  {
   "cell_type": "markdown",
   "metadata": {
    "id": "bStkaxn40q1C"
   },
   "source": [
    "## Internet"
   ]
  },
  {
   "cell_type": "code",
   "execution_count": 24,
   "metadata": {
    "id": "e-Uz5qyn0q1C"
   },
   "outputs": [
    {
     "name": "stdout",
     "output_type": "stream",
     "text": [
      "<class 'pandas.core.frame.DataFrame'>\n",
      "RangeIndex: 104825 entries, 0 to 104824\n",
      "Data columns (total 4 columns):\n",
      " #   Column        Non-Null Count   Dtype  \n",
      "---  ------        --------------   -----  \n",
      " 0   id            104825 non-null  object \n",
      " 1   user_id       104825 non-null  int64  \n",
      " 2   session_date  104825 non-null  object \n",
      " 3   mb_used       104825 non-null  float64\n",
      "dtypes: float64(1), int64(1), object(2)\n",
      "memory usage: 3.2+ MB\n"
     ]
    }
   ],
   "source": [
    "# Imprime la información general/resumida sobre el DataFrame de internet\n",
    "internet.info()\n",
    "\n"
   ]
  },
  {
   "cell_type": "code",
   "execution_count": 25,
   "metadata": {
    "id": "9r3x_XLw0q1C"
   },
   "outputs": [
    {
     "name": "stdout",
     "output_type": "stream",
     "text": [
      "No hay valores ausentes en este DataFrame\n",
      "No hay valores duplicados en este DataFrame\n",
      "         id  user_id session_date  mb_used\n",
      "0   1000_13     1000   2018-12-29    89.86\n",
      "1  1000_204     1000   2018-12-31     0.00\n",
      "2  1000_379     1000   2018-12-28   660.40\n",
      "3  1000_413     1000   2018-12-26   270.99\n",
      "4  1000_442     1000   2018-12-27   880.22\n"
     ]
    }
   ],
   "source": [
    "# Imprime una muestra de datos para los mensajes\n",
    "missing_values=internet.isnull().sum()\n",
    "if missing_values.sum()==0:\n",
    "    print('No hay valores ausentes en este DataFrame')\n",
    "else:\n",
    "    print('Estos son los valores ausentes:',missing_values)\n",
    "duplicate_values=internet.duplicated().sum()\n",
    "if duplicate_values.sum()==0:\n",
    "    print('No hay valores duplicados en este DataFrame')\n",
    "else:\n",
    "    print('Estos son los valores ausentes:',duplicate_values)\n",
    "print(internet.head())"
   ]
  },
  {
   "cell_type": "markdown",
   "metadata": {},
   "source": [
    "Una vez mas, este DataFrame no contiene valores ausentes ni valores duplicados, pero la columna 'session_date' es de tipo object lo que claramente puede interferir en el analisis de datos. Por lo tanto se debe convertir a tipo 'datetime'."
   ]
  },
  {
   "cell_type": "markdown",
   "metadata": {
    "id": "yA0tkPFg0q1D"
   },
   "source": [
    "### Corregir los datos"
   ]
  },
  {
   "cell_type": "code",
   "execution_count": 26,
   "metadata": {
    "id": "zVeanzdd0q1E"
   },
   "outputs": [
    {
     "data": {
      "text/plain": [
       "id               object\n",
       "user_id           int64\n",
       "session_date     object\n",
       "mb_used         float64\n",
       "dtype: object"
      ]
     },
     "execution_count": 26,
     "metadata": {},
     "output_type": "execute_result"
    }
   ],
   "source": [
    "internet.dtypes"
   ]
  },
  {
   "cell_type": "code",
   "execution_count": 27,
   "metadata": {},
   "outputs": [
    {
     "name": "stdout",
     "output_type": "stream",
     "text": [
      "Possible format: YYYY-MM-DD\n"
     ]
    }
   ],
   "source": [
    "# verificando que formato de fecha tiene la columna 'session_date' antes de convertirla a 'datetime'\n",
    "sample_date = internet['session_date'].iloc[0]\n",
    "try:\n",
    "    year, month, day = sample_date.split('-')\n",
    "    print(f\"Possible format: YYYY-MM-DD\")\n",
    "except ValueError:\n",
    "    pass\n",
    "try:\n",
    "     month, day, year = sample_date.split('/')\n",
    "     print(f\"Possible format: MM-DD-YYYY\")\n",
    "except ValueError:\n",
    "     pass"
   ]
  },
  {
   "cell_type": "code",
   "execution_count": 28,
   "metadata": {},
   "outputs": [
    {
     "name": "stdout",
     "output_type": "stream",
     "text": [
      "id                      object\n",
      "user_id                  int64\n",
      "session_date    datetime64[ns]\n",
      "mb_used                float64\n",
      "dtype: object\n"
     ]
    }
   ],
   "source": [
    "internet['session_date'] = pd.to_datetime(internet['session_date'])\n",
    "print(internet.dtypes)"
   ]
  },
  {
   "cell_type": "code",
   "execution_count": 29,
   "metadata": {},
   "outputs": [
    {
     "name": "stdout",
     "output_type": "stream",
     "text": [
      "<class 'pandas.core.frame.DataFrame'>\n",
      "RangeIndex: 104825 entries, 0 to 104824\n",
      "Data columns (total 5 columns):\n",
      " #   Column        Non-Null Count   Dtype         \n",
      "---  ------        --------------   -----         \n",
      " 0   id            104825 non-null  object        \n",
      " 1   user_id       104825 non-null  int64         \n",
      " 2   session_date  104825 non-null  datetime64[ns]\n",
      " 3   mb_used       104825 non-null  float64       \n",
      " 4   month         104825 non-null  datetime64[ns]\n",
      "dtypes: datetime64[ns](2), float64(1), int64(1), object(1)\n",
      "memory usage: 4.0+ MB\n"
     ]
    }
   ],
   "source": [
    "internet['month'] = internet['session_date'].dt.month\n",
    "internet['month'] = pd.to_datetime(internet['month'], format='%m')\n",
    "internet.info()"
   ]
  },
  {
   "cell_type": "markdown",
   "metadata": {
    "id": "e8_mLF4a0q1E"
   },
   "source": [
    "Enriquecer los datos"
   ]
  },
  {
   "cell_type": "markdown",
   "metadata": {
    "id": "ESiYPIEK0q1E"
   },
   "source": [
    "Voy a determinar que tipo de informacion voy a necesitar para validar o invalidar las hipotesis y asi poder saber cuales DataFrames deberia concatenar/fusionar."
   ]
  },
  {
   "cell_type": "markdown",
   "metadata": {},
   "source": [
    "<div class=\"alert alert-block alert-warning\">\n",
    "<b>Comentario revisor</b> <a class=\"tocSkip\"></a>\n",
    "\n",
    "\n",
    "Te recomiendo solamente comentar que cuando agrupemos los datos vamos a tener que redondear hacia arriba lo valores de la transformación de mbegabyter a gigabyte, para este ejercicio debemos hacer el redondeo superior dado que se cobra el costo extra en cuanto se pasa de los límites.Por lo que es necesario hacer la transformación de mb a gb y después hacer el redondeo.  \n",
    "</div>"
   ]
  },
  {
   "cell_type": "markdown",
   "metadata": {
    "id": "3UA2cqIW0q1E"
   },
   "source": [
    "## Estudiar las condiciones de las tarifas"
   ]
  },
  {
   "cell_type": "code",
   "execution_count": 30,
   "metadata": {
    "id": "i409op8p0q1F"
   },
   "outputs": [
    {
     "name": "stdout",
     "output_type": "stream",
     "text": [
      "Plan: surf\n",
      "Mensajes incluidos: 50\n",
      "Minutos incluidos: 500\n",
      "Gigabytes incluidos: 15.0\n",
      "Pago mensual (USD): 20\n",
      "Precio por GB adicional (USD): 10\n",
      "Precio por mensaje adicional (USD): 0.03\n",
      "Precio por minuto adicional (USD): 0.03\n",
      "\n",
      "Plan: ultimate\n",
      "Mensajes incluidos: 1000\n",
      "Minutos incluidos: 3000\n",
      "Gigabytes incluidos: 30.0\n",
      "Pago mensual (USD): 70\n",
      "Precio por GB adicional (USD): 7\n",
      "Precio por mensaje adicional (USD): 0.01\n",
      "Precio por minuto adicional (USD): 0.01\n",
      "\n"
     ]
    }
   ],
   "source": [
    "# condiciones de cada tarifa\n",
    "\n",
    "# Crear una función para mostrar las condiciones de cada plan\n",
    "def mostrar_condiciones(plans):\n",
    "    print(f\"Plan: {plans['plan_name']}\")\n",
    "    print(f\"Mensajes incluidos: {plans['messages_included']}\")\n",
    "    print(f\"Minutos incluidos: {plans['minutes_included']}\")\n",
    "    print(f\"Gigabytes incluidos: {plans['gb_per_month_included']}\")\n",
    "    print(f\"Pago mensual (USD): {plans['usd_monthly_pay']}\")\n",
    "    print(f\"Precio por GB adicional (USD): {plans['usd_per_gb']}\")\n",
    "    print(f\"Precio por mensaje adicional (USD): {plans['usd_per_message']}\")\n",
    "    print(f\"Precio por minuto adicional (USD): {plans['usd_per_minute']}\")\n",
    "    print()\n",
    "\n",
    "# Iterar sobre cada fila del DataFrame y mostrar las condiciones de cada plan\n",
    "for index, plan in plans.iterrows():\n",
    "    mostrar_condiciones(plan)\n",
    "\n"
   ]
  },
  {
   "cell_type": "markdown",
   "metadata": {
    "id": "hMR1tP5d0q1F"
   },
   "source": [
    "## Agregar datos por usuario\n",
    "\n",
    "[Ahora que los datos están limpios, agrega los datos por usuario y por periodo para que solo haya un registro por usuario y por periodo. Esto facilitará mucho el análisis posterior.]"
   ]
  },
  {
   "cell_type": "code",
   "execution_count": 31,
   "metadata": {
    "id": "aw2cmuql0q1G"
   },
   "outputs": [],
   "source": [
    "# Calcula la cantidad de minutos usados por cada usuario al mes. Guarda el resultado.\n",
    "monthly_minutes = calls.groupby(['user_id', 'month'])['duration'].sum().reset_index()\n",
    "monthly_minutes.rename(columns={'duration': 'total_minutes'}, inplace=True)\n",
    "minutes_per_month = pd.merge(calls, monthly_minutes, on=['user_id', 'month'], how='left')\n",
    "minutes_per_month.to_csv('calls_with_monthly_minutes.csv', index=False)"
   ]
  },
  {
   "cell_type": "markdown",
   "metadata": {},
   "source": [
    "\n",
    "<div class=\"alert alert-block alert-warning\">\n",
    "\n",
    "<b>Comentario revisor</b> <a class=\"tocSkip\"></a>\n",
    "\n",
    "Si bien es correcta la forma de agrupar para sacar la duración de las llamadas por cada ususario, para proximas ocasiones puedes hacer uso de la siguiente forma:\n",
    "    \n",
    "    pivot_calls = calls.pivot_table(index=['user_id', 'month'],\n",
    "                                values=['duration'],\n",
    "                                aggfunc=['sum','count']).reset_index()\n",
    "\n",
    "</div>"
   ]
  },
  {
   "cell_type": "code",
   "execution_count": 32,
   "metadata": {
    "id": "CcQvNHn60q1G"
   },
   "outputs": [],
   "source": [
    "# Calcula el número de mensajes enviados por cada usuario al mes. Guarda el resultado.\n",
    "monthly_messages = messages.groupby(['user_id','month']).size().reset_index(name='total_messages')\n",
    "messages_per_month = pd.merge(messages, monthly_messages, on=['user_id','month'],how='left')\n",
    "messages_per_month.to_csv('messages_with_monthly_count.csv', index=False)"
   ]
  },
  {
   "cell_type": "code",
   "execution_count": 33,
   "metadata": {
    "id": "H1AqN2eG0q1H"
   },
   "outputs": [],
   "source": [
    "# Calcula el volumen del tráfico de Internet usado por cada usuario al mes. Guarda el resultado.\n",
    "monthly_traffic = internet.groupby(['user_id','month'])['mb_used'].sum().reset_index()\n",
    "monthly_traffic.rename(columns={'mb_used': 'total_mb_used'}, inplace=True)\n",
    "internet_traffic_per_month = pd.merge(internet, monthly_traffic, on=['user_id', 'month'], how='left')\n",
    "internet_traffic_per_month.to_csv('internet_with_monthly_traffic.csv', index=False)"
   ]
  },
  {
   "cell_type": "markdown",
   "metadata": {
    "id": "VDfYXnj80q1H"
   },
   "source": [
    "[Junta los datos agregados en un DataFrame para que haya un registro que represente lo que consumió un usuario único en un mes determinado.]"
   ]
  },
  {
   "cell_type": "code",
   "execution_count": 34,
   "metadata": {},
   "outputs": [],
   "source": [
    "#Voy a eliminar las columnas que no son necesarias para evitar duplicados cuando haga el merge\n",
    "minutes_per_month = minutes_per_month[['user_id', 'month', 'total_minutes']]\n",
    "messages_per_month = messages_per_month[['user_id', 'month', 'total_messages']]\n",
    "internet_traffic_per_month = internet_traffic_per_month[['user_id', 'month', 'total_mb_used']]"
   ]
  },
  {
   "cell_type": "code",
   "execution_count": 35,
   "metadata": {},
   "outputs": [],
   "source": [
    "# Optimizar tipos de datos\n",
    "minutes_per_month['user_id'] = minutes_per_month['user_id'].astype('int32')\n",
    "minutes_per_month['total_minutes'] = minutes_per_month['total_minutes'].astype('float32')\n",
    "\n",
    "messages_per_month['user_id'] = messages_per_month['user_id'].astype('int32')\n",
    "messages_per_month['total_messages'] = messages_per_month['total_messages'].astype('int32')\n",
    "\n",
    "internet_traffic_per_month['user_id'] = internet_traffic_per_month['user_id'].astype('int32')\n",
    "internet_traffic_per_month['total_mb_used'] = internet_traffic_per_month['total_mb_used'].astype('float32')\n"
   ]
  },
  {
   "cell_type": "code",
   "execution_count": 36,
   "metadata": {},
   "outputs": [],
   "source": [
    "# Eliminar duplicados\n",
    "minutes_per_month.drop_duplicates(inplace=True)\n",
    "messages_per_month.drop_duplicates(inplace=True)\n",
    "internet_traffic_per_month.drop_duplicates(inplace=True)"
   ]
  },
  {
   "cell_type": "code",
   "execution_count": 37,
   "metadata": {},
   "outputs": [],
   "source": [
    "# Eliminar filas con valores nulos en las columnas clave\n",
    "minutes_per_month.dropna(subset=['user_id', 'month'], inplace=True)\n",
    "messages_per_month.dropna(subset=['user_id', 'month'], inplace=True)\n",
    "internet_traffic_per_month.dropna(subset=['user_id', 'month'], inplace=True)\n"
   ]
  },
  {
   "cell_type": "code",
   "execution_count": 38,
   "metadata": {},
   "outputs": [],
   "source": [
    "merged_df = pd.merge(minutes_per_month, messages_per_month, on=['user_id', 'month'], how='outer')\n",
    "merged_df = pd.merge(merged_df, internet_traffic_per_month, on=['user_id', 'month'], how='outer')"
   ]
  },
  {
   "cell_type": "markdown",
   "metadata": {},
   "source": [
    "<div class=\"alert alert-block alert-success\">\n",
    "<b>Comentario del revisor</b> <a class=\"tocSkip\"></a>\n",
    "\n",
    "Muy buen trabajo!! el merge es correcto para unir todas las bases trabajadas.\n",
    "    \n",
    "</div>"
   ]
  },
  {
   "cell_type": "code",
   "execution_count": 39,
   "metadata": {},
   "outputs": [
    {
     "name": "stdout",
     "output_type": "stream",
     "text": [
      "   user_id      month  total_minutes  total_messages  total_mb_used plan_name  \\\n",
      "0     1000 1900-12-01     116.830002            11.0    1901.469971      Surf   \n",
      "1     1001 1900-09-01     297.690002            44.0   13314.820312      Surf   \n",
      "2     1001 1900-10-01     374.109985            53.0   22330.490234  Ultimate   \n",
      "3     1001 1900-12-01     392.929993            44.0   19369.179688      Surf   \n",
      "4     1001 1900-11-01     404.589996            36.0   18504.300781      Surf   \n",
      "\n",
      "   total_income  \n",
      "0          20.0  \n",
      "1          20.0  \n",
      "2          70.0  \n",
      "3          20.0  \n",
      "4          20.0  \n"
     ]
    }
   ],
   "source": [
    "#voy a definir las condiciones de los planes para luego crear una funcion que me permita relacionar cad ausuario con el plan\n",
    "surf_plan = {\n",
    "    'plan_name': 'Surf',\n",
    "    'usd_monthly_pay': 20,\n",
    "    'minutes_included': 500,\n",
    "    'messages_included': 50,\n",
    "    'mb_per_month_included': 15360 * 1024,  # Convertir GB a MB\n",
    "    'usd_per_minute': 0.03,\n",
    "    'usd_per_message': 0.03,\n",
    "    'usd_per_gb': 10\n",
    "}\n",
    "\n",
    "ultimate_plan = {\n",
    "    'plan_name': 'Ultimate',\n",
    "    'usd_monthly_pay': 70,\n",
    "    'minutes_included': 3000,\n",
    "    'messages_included': 1000,\n",
    "    'mb_per_month_included': 30720 * 1024,  # Convertir GB a MB\n",
    "    'usd_per_minute': 0.01,\n",
    "    'usd_per_message': 0.01,\n",
    "    'usd_per_gb': 7\n",
    "}\n",
    "def asignar_plan(row):\n",
    "    if row['total_minutes'] <= surf_plan['minutes_included'] and \\\n",
    "       row['total_messages'] <= surf_plan['messages_included'] and \\\n",
    "       row['total_mb_used'] <= surf_plan['mb_per_month_included']:\n",
    "        return surf_plan['plan_name']\n",
    "    else:\n",
    "        return ultimate_plan['plan_name']\n",
    "merged_df['plan_name'] = merged_df.apply(asignar_plan, axis=1)\n",
    "\n",
    "#aqui voy a calcular los ingresos mensuales por usuario\n",
    "def calcular_ingresos(row):\n",
    "    if row['plan_name'] == surf_plan['plan_name']:\n",
    "        excess_minutes = max(row['total_minutes'] - surf_plan['minutes_included'], 0)\n",
    "        excess_messages = max(row['total_messages'] - surf_plan['messages_included'], 0)\n",
    "        excess_mb = max(row['total_mb_used'] - surf_plan['mb_per_month_included'], 0)\n",
    "        income_from_minutes = excess_minutes * surf_plan['usd_per_minute']\n",
    "        income_from_messages = excess_messages * surf_plan['usd_per_message']\n",
    "        income_from_mb = excess_mb * surf_plan['usd_per_gb'] / 1024  # Convertir MB a GB\n",
    "        total_income = surf_plan['usd_monthly_pay'] + income_from_minutes + income_from_messages + income_from_mb\n",
    "        return total_income\n",
    "    else:\n",
    "        excess_minutes = max(row['total_minutes'] - ultimate_plan['minutes_included'], 0)\n",
    "        excess_messages = max(row['total_messages'] - ultimate_plan['messages_included'], 0)\n",
    "        excess_mb = max(row['total_mb_used'] - ultimate_plan['mb_per_month_included'], 0)\n",
    "        income_from_minutes = excess_minutes * ultimate_plan['usd_per_minute']\n",
    "        income_from_messages = excess_messages * ultimate_plan['usd_per_message']\n",
    "        income_from_mb = excess_mb * ultimate_plan['usd_per_gb'] / 1024  # Convertir MB a GB\n",
    "        total_income = ultimate_plan['usd_monthly_pay'] + income_from_minutes + income_from_messages + income_from_mb\n",
    "        return total_income\n",
    "\n",
    "merged_df['total_income'] = merged_df.apply(calcular_ingresos, axis=1)\n",
    "print(merged_df.head())\n"
   ]
  },
  {
   "cell_type": "markdown",
   "metadata": {
    "id": "-jtyHzJb0q1I"
   },
   "source": [
    "## Estudia el comportamiento de usuario"
   ]
  },
  {
   "cell_type": "markdown",
   "metadata": {
    "id": "vtW4CJEe0q1J"
   },
   "source": [
    "### Llamadas"
   ]
  },
  {
   "cell_type": "markdown",
   "metadata": {
    "id": "bLS9T8OH0q1K"
   },
   "source": [
    "[Calcula la media y la variable de la duración de las llamadas para averiguar si los usuarios de los distintos planes se comportan de forma diferente al realizar sus llamadas.]"
   ]
  },
  {
   "cell_type": "code",
   "execution_count": 40,
   "metadata": {
    "id": "oSndbAnt0q1K"
   },
   "outputs": [
    {
     "data": {
      "image/png": "[encoded data removed]",
      "text/plain": [
       "<Figure size 1000x600 with 1 Axes>"
      ]
     },
     "metadata": {},
     "output_type": "display_data"
    }
   ],
   "source": [
    "# Datos de duración de llamadas para cada plan\n",
    "surf_duration = merged_df[merged_df['plan_name'] == 'Surf']['total_minutes']\n",
    "ultimate_duration = merged_df[merged_df['plan_name'] == 'Ultimate']['total_minutes']\n",
    "\n",
    "# Configuración del tamaño de la figura\n",
    "plt.figure(figsize=(10, 6))\n",
    "\n",
    "# Histograma de duración de llamadas para el plan Surf\n",
    "plt.hist(surf_duration, bins=20, alpha=0.5, label='Surf', color='blue')\n",
    "\n",
    "# Histograma de duración de llamadas para el plan Ultimate\n",
    "plt.hist(ultimate_duration, bins=20, alpha=0.5, label='Ultimate', color='red')\n",
    "\n",
    "# Título y etiquetas de los ejes\n",
    "plt.title('Distribución de Duración de Llamadas por Plan')\n",
    "plt.xlabel('Duración de la llamada (minutos)')\n",
    "plt.ylabel('Frecuencia')\n",
    "\n",
    "# Leyenda\n",
    "plt.legend()\n",
    "\n",
    "# Mostrar la gráfica\n",
    "plt.show()"
   ]
  },
  {
   "cell_type": "markdown",
   "metadata": {
    "id": "nZzoRUKc0q1K"
   },
   "source": [
    "Independientemente del plan que tengan los usuarios, parece ser que los usuarios no sobrepasan los minutos incluidos en su plan; sin embargo, los usuarios del plan ultimate tienden a realizar llamadas mas frecuentemente."
   ]
  },
  {
   "cell_type": "code",
   "execution_count": 41,
   "metadata": {},
   "outputs": [
    {
     "data": {
      "image/png": "[encoded data removed]",
      "text/plain": [
       "<Figure size 1000x600 with 1 Axes>"
      ]
     },
     "metadata": {},
     "output_type": "display_data"
    }
   ],
   "source": [
    "surf_mean = merged_df[merged_df['plan_name'] == 'Surf']['total_minutes'].mean()\n",
    "surf_var = merged_df[merged_df['plan_name'] == 'Surf']['total_minutes'].var()\n",
    "\n",
    "ultimate_mean = merged_df[merged_df['plan_name'] == 'Ultimate']['total_minutes'].mean()\n",
    "ultimate_var = merged_df[merged_df['plan_name'] == 'Ultimate']['total_minutes'].var()\n",
    "\n",
    "# Gráfico de barras para comparar las medias de duración de llamadas entre los planes\n",
    "plt.figure(figsize=(10, 6))\n",
    "plt.bar(['Surf', 'Ultimate'], [surf_mean, ultimate_mean], color=['blue', 'red'])\n",
    "plt.title('Comparación de la duración media de llamadas entre planes')\n",
    "plt.xlabel('Plan')\n",
    "plt.ylabel('Duración media de llamadas (minutos)')\n",
    "plt.show()"
   ]
  },
  {
   "cell_type": "markdown",
   "metadata": {},
   "source": [
    "Tal como dije de la grafica anterior, los usuarios del plan ultimate tienden a realizar mas llamadas que los usuarios del plan surf. "
   ]
  },
  {
   "cell_type": "markdown",
   "metadata": {},
   "source": [
    "de las graficas anteriores se puede concluir entonces que los usuarios si se comportan diferente de acuerdo al plan que tienen, ya que los usuarios del plan ultimate tienden a realizar mas llamadas porque tienen mas disponibilidad de minutos."
   ]
  },
  {
   "cell_type": "markdown",
   "metadata": {
    "id": "8idKy8Wh0q1L"
   },
   "source": [
    "### Mensajes"
   ]
  },
  {
   "cell_type": "code",
   "execution_count": 42,
   "metadata": {
    "id": "GRI_R7xF0q1L"
   },
   "outputs": [
    {
     "data": {
      "image/png": "[encoded data removed]",
      "text/plain": [
       "<Figure size 1000x600 with 1 Axes>"
      ]
     },
     "metadata": {},
     "output_type": "display_data"
    }
   ],
   "source": [
    "#Compara el número de mensajes mensuales que necesitan los usuarios de cada plan. Traza un histograma\n",
    "# Filtrar los datos por plan y obtener el número de mensajes mensuales\n",
    "surf_messages = merged_df[merged_df['plan_name'] == 'Surf']['total_messages']\n",
    "ultimate_messages = merged_df[merged_df['plan_name'] == 'Ultimate']['total_messages']\n",
    "plt.figure(figsize=(10, 6))\n",
    "plt.hist(surf_messages, bins=20, alpha=0.5, label='Surf', color='blue')\n",
    "plt.hist(ultimate_messages, bins=20, alpha=0.5, label='Ultimate', color='red')\n",
    "plt.title('Distribución del número de mensajes mensuales por plan')\n",
    "plt.xlabel('Número de mensajes mensuales')\n",
    "plt.ylabel('Frecuencia')\n",
    "plt.legend()\n",
    "plt.show()"
   ]
  },
  {
   "cell_type": "markdown",
   "metadata": {},
   "source": [
    "En esta grafica se muestra que los usuarios del plan surf utilizan mas mensajes de texto que los usuarios del plan ultimate, sin embargo el uso de los mensajes de texto en el plan surf no es tan frecuente. Se observa tambien que los usuarios del plan ultimate envian mas frecuentemente entre 50-100 mensajes de texto al mes cuando tienen disponibles 1000."
   ]
  },
  {
   "cell_type": "code",
   "execution_count": 43,
   "metadata": {
    "id": "dtFwCGAp0q1M"
   },
   "outputs": [
    {
     "data": {
      "image/png": "[encoded data removed]",
      "text/plain": [
       "<Figure size 1000x600 with 1 Axes>"
      ]
     },
     "metadata": {},
     "output_type": "display_data"
    }
   ],
   "source": [
    "#Calcula la media y la varianza de la frecuencia mensual de envio de mensajes.\n",
    "mean_messages = merged_df['total_messages'].mean()\n",
    "variance_messages = merged_df['total_messages'].var()\n",
    "plt.figure(figsize=(10, 6))\n",
    "plt.bar(merged_df['month'], merged_df['total_messages'], color='skyblue', edgecolor='black')\n",
    "plt.title('Frecuencia Mensual de Envío de Mensajes')\n",
    "plt.xlabel('Mes')\n",
    "plt.ylabel('Total de Mensajes')\n",
    "plt.xticks(rotation=45)\n",
    "plt.grid(True)\n",
    "plt.axhline(mean_messages, color='r', linestyle='--', label='Media')\n",
    "plt.legend()\n",
    "plt.tight_layout()\n",
    "plt.show()\n"
   ]
  },
  {
   "cell_type": "markdown",
   "metadata": {},
   "source": [
    "Segun estos datos los usuarios no utilizan mucho el servicio de mensajes de texto independientemente del plan al que esten suscritos."
   ]
  },
  {
   "cell_type": "markdown",
   "metadata": {
    "id": "42YSypXz0q1M"
   },
   "source": [
    "### Internet"
   ]
  },
  {
   "cell_type": "code",
   "execution_count": 44,
   "metadata": {
    "id": "lSuKPtjh0q1M"
   },
   "outputs": [
    {
     "data": {
      "image/png": "[encoded data removed]",
      "text/plain": [
       "<Figure size 1000x600 with 1 Axes>"
      ]
     },
     "metadata": {},
     "output_type": "display_data"
    }
   ],
   "source": [
    "# Compara la cantidad de tráfico de Internet consumido por usuarios por plan\n",
    "internet_traffic_by_plan = merged_df.groupby('plan_name')['total_mb_used'].sum()\n",
    "plt.figure(figsize=(10, 6))\n",
    "internet_traffic_by_plan.plot(kind='bar', color=['skyblue', 'lightgreen'])\n",
    "plt.title('Cantidad de Tráfico de Internet Consumido por Usuarios por Plan')\n",
    "plt.xlabel('Plan')\n",
    "plt.ylabel('Total de Tráfico de Internet Consumido (MB)')\n",
    "plt.xticks(rotation=0)\n",
    "plt.grid(axis='y')\n",
    "plt.tight_layout()\n",
    "plt.show()"
   ]
  },
  {
   "cell_type": "markdown",
   "metadata": {},
   "source": [
    "En esta grafica se observa que los usuarios no alcanzan a consumir la cantidad de GB incluidos mensualmente en sus respectivos plane; aunque los usuarios del plan ultimate hacen mas uso de su GB disponibles."
   ]
  },
  {
   "cell_type": "code",
   "execution_count": 45,
   "metadata": {
    "id": "wnh8jYXi0q1N"
   },
   "outputs": [
    {
     "data": {
      "image/png": "[encoded data removed]",
      "text/plain": [
       "<Figure size 1000x600 with 1 Axes>"
      ]
     },
     "metadata": {},
     "output_type": "display_data"
    }
   ],
   "source": [
    "#Traza un diagrama de caja para visualizar la distribución del trafico de datos mensual\n",
    "plt.figure(figsize=(10, 6))\n",
    "plt.boxplot([merged_df[merged_df['month'] == month]['total_mb_used'] for month in merged_df['month'].unique()], \n",
    "            labels=merged_df['month'].unique())\n",
    "plt.title('Distribución del Tráfico de Datos Mensual')\n",
    "plt.xlabel('Mes')\n",
    "plt.ylabel('Tráfico de Datos (MB)')\n",
    "plt.xticks(rotation=45)\n",
    "plt.grid(axis='y')\n",
    "plt.tight_layout()\n",
    "plt.show()"
   ]
  },
  {
   "cell_type": "markdown",
   "metadata": {},
   "source": [
    "Al parecer el mayor trafico de internet usado ocurrio en Mayo, posiblemente por alguna promocion adicional, o incluso porque es un mes bastante comercial al celebrarse casi internacionalmente el dia de la madre."
   ]
  },
  {
   "cell_type": "code",
   "execution_count": 46,
   "metadata": {
    "id": "5VlyJ9ry0q1N"
   },
   "outputs": [
    {
     "data": {
      "image/png": "[encoded data removed]",
      "text/plain": [
       "<Figure size 1000x600 with 1 Axes>"
      ]
     },
     "metadata": {},
     "output_type": "display_data"
    }
   ],
   "source": [
    "# Calcular la media y la varianza del tráfico de internet mensual por plan\n",
    "traffic_mean = merged_df.groupby('plan_name')['total_mb_used'].mean()\n",
    "traffic_variance = merged_df.groupby('plan_name')['total_mb_used'].var()\n",
    "plt.figure(figsize=(10, 6))\n",
    "plt.bar(traffic_mean.index, traffic_mean, color='skyblue', label='Media')\n",
    "plt.plot(traffic_variance.index, traffic_variance, marker='o', linestyle='-', color='lightgreen', label='Varianza')\n",
    "plt.title('Media y Varianza del Tráfico de Internet Mensual por Plan')\n",
    "plt.xlabel('Plan')\n",
    "plt.ylabel('Tráfico de Internet (MB)')\n",
    "plt.grid(axis='y')\n",
    "plt.legend()\n",
    "plt.xticks(rotation=45)\n",
    "plt.tight_layout()\n",
    "plt.show()"
   ]
  },
  {
   "cell_type": "markdown",
   "metadata": {},
   "source": [
    "Analizando el tráfico de Internet mensual por plan, la varianza alta podría indicar que hay una amplia variabilidad en la cantidad de datos utilizados por los usuarios en cada plan."
   ]
  },
  {
   "cell_type": "markdown",
   "metadata": {
    "id": "tCijq3260q1N"
   },
   "source": [
    "## Ingreso"
   ]
  },
  {
   "cell_type": "markdown",
   "metadata": {
    "id": "9nq5IAcy0q1O"
   },
   "source": [
    "[Del mismo modo que has estudiado el comportamiento de los usuarios, describe estadísticamente los ingresos de los planes.]"
   ]
  },
  {
   "cell_type": "code",
   "execution_count": 47,
   "metadata": {
    "id": "tz-dq_V00q1O"
   },
   "outputs": [
    {
     "data": {
      "image/png": "[encoded data removed]",
      "text/plain": [
       "<Figure size 1000x600 with 1 Axes>"
      ]
     },
     "metadata": {},
     "output_type": "display_data"
    }
   ],
   "source": [
    "# Compara el promedio de ingresos por cada plan y por cada mes. Traza un gráfico de barras para visualizarla.\n",
    "income_avg = merged_df.groupby(['plan_name', 'month'])['total_income'].mean().reset_index()\n",
    "plt.figure(figsize=(10, 6))\n",
    "for plan in income_avg['plan_name'].unique():\n",
    "    plt.bar(income_avg[income_avg['plan_name'] == plan]['month'], \n",
    "            income_avg[income_avg['plan_name'] == plan]['total_income'], \n",
    "            alpha=0.7, label=plan)\n",
    "plt.title('Promedio de Ingresos por Plan y por Mes')\n",
    "plt.xlabel('Mes')\n",
    "plt.ylabel('Promedio de Ingresos')\n",
    "plt.xticks(rotation=45)\n",
    "plt.grid(axis='y')\n",
    "plt.legend()\n",
    "plt.tight_layout()\n",
    "plt.show()"
   ]
  },
  {
   "cell_type": "code",
   "execution_count": 48,
   "metadata": {
    "id": "0Y1v8ZUz0q1P"
   },
   "outputs": [
    {
     "data": {
      "image/png": "[encoded data removed]",
      "text/plain": [
       "<Figure size 1000x600 with 1 Axes>"
      ]
     },
     "metadata": {},
     "output_type": "display_data"
    }
   ],
   "source": [
    "# Compara el total de ingresos mensuales que pagan los usuarios de cada plan. Traza un histograma.\n",
    "income_total_by_plan = merged_df.groupby('plan_name')['total_income'].sum()\n",
    "plt.figure(figsize=(10, 6))\n",
    "plt.bar(income_total_by_plan.index, income_total_by_plan, color='skyblue')\n",
    "plt.title('Total de Ingresos Mensuales por Plan')\n",
    "plt.xlabel('Plan')\n",
    "plt.ylabel('Total de Ingresos Mensuales')\n",
    "plt.xticks(rotation=45)\n",
    "plt.grid(axis='y')\n",
    "plt.tight_layout()\n",
    "plt.show()"
   ]
  },
  {
   "cell_type": "markdown",
   "metadata": {},
   "source": [
    "En una de las graficas podemos observar claramente que el plan ultimate es el que mas ingresos le genera a Megaline, probablemente porque tiene un costo mas alto para los usuarios"
   ]
  },
  {
   "cell_type": "markdown",
   "metadata": {
    "id": "ajJ7VKeI0q1Q"
   },
   "source": [
    "## Prueba las hipótesis estadísticas"
   ]
  },
  {
   "cell_type": "markdown",
   "metadata": {
    "id": "AdXAZ-yL0q1Q"
   },
   "source": [
    "[Prueba la hipótesis de que son diferentes los ingresos promedio procedentes de los usuarios de los planes de llamada Ultimate y Surf.]"
   ]
  },
  {
   "cell_type": "markdown",
   "metadata": {
    "id": "IQwa_hsh0q1Q"
   },
   "source": [
    "[Elabora las hipótesis nula y alternativa, escoge la prueba estadística, determina el valor alfa.]"
   ]
  },
  {
   "cell_type": "code",
   "execution_count": 49,
   "metadata": {
    "id": "nFoPNlPq0q1R"
   },
   "outputs": [
    {
     "name": "stdout",
     "output_type": "stream",
     "text": [
      "No hay evidencia suficiente para concluir que hay una diferencia significativa entre los ingresos promedio de los usuarios de los planes Ultimate y Surf.\n"
     ]
    },
    {
     "name": "stderr",
     "output_type": "stream",
     "text": [
      "/tmp/ipykernel_106/370582702.py:8: RuntimeWarning: Precision loss occurred in moment calculation due to catastrophic cancellation. This occurs when the data are nearly identical. Results may be unreliable.\n",
      "  t_statistic, p_value = ttest_ind(income_ultimate, income_surf)\n"
     ]
    }
   ],
   "source": [
    "# Prueba las hipótesis\n",
    "\n",
    "# Separar los datos de los ingresos para los dos grupos (Ultimate y Surf)\n",
    "income_ultimate = merged_df[merged_df['plan_name'] == 'Ultimate']['total_income']\n",
    "income_surf = merged_df[merged_df['plan_name'] == 'Surf']['total_income']\n",
    "\n",
    "# Realizar la prueba t de Student para comparar las medias de los ingresos de los dos grupos\n",
    "t_statistic, p_value = ttest_ind(income_ultimate, income_surf)\n",
    "\n",
    "# Interpretar los resultados\n",
    "alpha = 0.05\n",
    "if p_value < alpha:\n",
    "    print(\"Hay una diferencia significativa entre los ingresos promedio de los usuarios de los planes Ultimate y Surf.\")\n",
    "else:\n",
    "    print(\"No hay evidencia suficiente para concluir que hay una diferencia significativa entre los ingresos promedio de los usuarios de los planes Ultimate y Surf.\")"
   ]
  },
  {
   "cell_type": "code",
   "execution_count": 50,
   "metadata": {},
   "outputs": [
    {
     "name": "stdout",
     "output_type": "stream",
     "text": [
      "No hay evidencia suficiente para concluir que hay una diferencia significativa entre los ingresos promedio de los usuarios de los planes Ultimate y Surf.\n"
     ]
    }
   ],
   "source": [
    "from scipy.stats import mannwhitneyu\n",
    "\n",
    "# Separar los datos de los ingresos para los dos grupos (Ultimate y Surf)\n",
    "income_ultimate = merged_df[merged_df['plan_name'] == 'Ultimate']['total_income']\n",
    "income_surf = merged_df[merged_df['plan_name'] == 'Surf']['total_income']\n",
    "\n",
    "# Realizar la prueba de Wilcoxon-Mann-Whitney para comparar los ingresos de los dos grupos\n",
    "statistic, p_value = mannwhitneyu(income_ultimate, income_surf)\n",
    "\n",
    "# Interpretar los resultados\n",
    "alpha = 0.05\n",
    "if p_value < alpha:\n",
    "    print(\"Hay una diferencia significativa entre los ingresos promedio de los usuarios de los planes Ultimate y Surf.\")\n",
    "else:\n",
    "    print(\"No hay evidencia suficiente para concluir que hay una diferencia significativa entre los ingresos promedio de los usuarios de los planes Ultimate y Surf.\")\n"
   ]
  },
  {
   "cell_type": "markdown",
   "metadata": {},
   "source": [
    "Despues de aplicar dos pruebas diferentes para probar la hipotesis, encontramos que no hay evidencia suficiente para concluir una diferencia significativa entre los ingresos generados de los planes Surf y Ultimate."
   ]
  },
  {
   "cell_type": "code",
   "execution_count": 51,
   "metadata": {},
   "outputs": [
    {
     "name": "stdout",
     "output_type": "stream",
     "text": [
      "   user_id      month  total_minutes  total_messages  total_mb_used plan_name  \\\n",
      "0     1000 1900-12-01     116.830002            11.0    1901.469971      Surf   \n",
      "1     1001 1900-09-01     297.690002            44.0   13314.820312      Surf   \n",
      "2     1001 1900-10-01     374.109985            53.0   22330.490234  Ultimate   \n",
      "3     1001 1900-12-01     392.929993            44.0   19369.179688      Surf   \n",
      "4     1001 1900-11-01     404.589996            36.0   18504.300781      Surf   \n",
      "\n",
      "   total_income                                   city  \n",
      "0          20.0  Atlanta-Sandy Springs-Roswell, GA MSA  \n",
      "1          20.0        Seattle-Tacoma-Bellevue, WA MSA  \n",
      "2          70.0        Seattle-Tacoma-Bellevue, WA MSA  \n",
      "3          20.0        Seattle-Tacoma-Bellevue, WA MSA  \n",
      "4          20.0        Seattle-Tacoma-Bellevue, WA MSA  \n"
     ]
    }
   ],
   "source": [
    "# Unir la columna 'city' al dataframe 'merged_df'\n",
    "merged_df = pd.merge(merged_df, users[['user_id', 'city']], on='user_id', how='left')\n",
    "print(merged_df.head())"
   ]
  },
  {
   "cell_type": "code",
   "execution_count": 52,
   "metadata": {
    "scrolled": true
   },
   "outputs": [
    {
     "name": "stdout",
     "output_type": "stream",
     "text": [
      "No hay evidencia suficiente para concluir que hay una diferencia significativa entre el ingreso promedio de los usuarios del área NY-NJ y los de otras regiones.\n"
     ]
    }
   ],
   "source": [
    "# Prueba las hipótesis\n",
    "income_ny_nj = merged_df[merged_df['city'].isin(['New York', 'New Jersey'])]['total_income']\n",
    "income_other_regions = merged_df[~merged_df['city'].isin(['New York', 'New Jersey'])]['total_income']\n",
    "t_statistic, p_value = ttest_ind(income_ny_nj, income_other_regions, equal_var=False)\n",
    "alpha = 0.05\n",
    "if p_value < alpha:\n",
    "    print(\"Hay una diferencia significativa entre el ingreso promedio de los usuarios del área NY-NJ y los de otras regiones.\")\n",
    "else:\n",
    "    print(\"No hay evidencia suficiente para concluir que hay una diferencia significativa entre el ingreso promedio de los usuarios del área NY-NJ y los de otras regiones.\")"
   ]
  },
  {
   "cell_type": "markdown",
   "metadata": {},
   "source": [
    "<div class=\"alert alert-block alert-success\">\n",
    "<b>Comentario del revisor</b> <a class=\"tocSkip\"></a>\n",
    "\n",
    "Muy buen trabajo con los ajustes!\n",
    "</div>"
   ]
  },
  {
   "cell_type": "markdown",
   "metadata": {},
   "source": [
    "De acuerdo al analisis realizado, no existe una evidencia significativa para decir que los usuarios se comportan diferente de acuerdo a la ciudad o que generan mas o menos ingresos de acuerdo a la region donde se encuentre."
   ]
  },
  {
   "cell_type": "markdown",
   "metadata": {
    "id": "bbTR8UQO0q1T"
   },
   "source": [
    "## Conclusión general\n",
    "\n",
    "1. Fue dificil hacer suposiciones con los datos porque encontre muy dificil poder limpiar y trabajar con los datos.\n",
    "2. No confio en la limpieza y fusion de datos que realice con las bases de datos porque siento que las graficas y los resultados de los analisis son muy confusos.\n",
    "3. Fue bastante retador tratar de probar las hipotesis con unos datos que no estoy segura que esten correctos.\n",
    "4. "
   ]
  },
  {
   "cell_type": "markdown",
   "metadata": {},
   "source": [
    "<div class=\"alert alert-block alert-success\">\n",
    "<b>Comentario del revisor</b> <a class=\"tocSkip\"></a>\n",
    "\n",
    "Muy buen trabajo con los ajustes! Solamente te recomiendo que complementes con una conclusión general con todos los hallazgos del proyecto. Que sigas disfrutando los siguientes cursos!\n",
    "</div>"
   ]
  }
 ],
 "metadata": {
  "ExecuteTimeLog": [
   {
    "duration": 828,
    "start_time": "2021-11-16T09:21:11.304Z"
   },
   {
    "duration": 893,
    "start_time": "2021-11-16T09:21:17.728Z"
   },
   {
    "duration": 1150,
    "start_time": "2021-11-16T09:21:29.568Z"
   },
   {
    "duration": 3,
    "start_time": "2021-11-16T09:24:14.495Z"
   },
   {
    "duration": 120,
    "start_time": "2021-11-16T09:24:46.630Z"
   },
   {
    "duration": 3,
    "start_time": "2021-11-16T09:28:27.882Z"
   },
   {
    "duration": 4,
    "start_time": "2021-11-16T09:29:54.281Z"
   },
   {
    "duration": 3,
    "start_time": "2021-11-16T09:30:45.936Z"
   },
   {
    "duration": 4,
    "start_time": "2021-11-16T09:31:06.300Z"
   },
   {
    "duration": 113,
    "start_time": "2021-11-16T09:31:37.208Z"
   },
   {
    "duration": 143,
    "start_time": "2021-11-16T09:31:48.656Z"
   },
   {
    "duration": 98,
    "start_time": "2021-11-16T09:31:55.678Z"
   },
   {
    "duration": 3,
    "start_time": "2021-11-16T09:32:08.535Z"
   },
   {
    "duration": 111,
    "start_time": "2021-11-16T09:32:10.120Z"
   },
   {
    "duration": 3,
    "start_time": "2021-11-16T09:32:15.732Z"
   },
   {
    "duration": 4,
    "start_time": "2021-11-16T09:32:29.423Z"
   },
   {
    "duration": 3,
    "start_time": "2021-11-16T10:03:03.074Z"
   },
   {
    "duration": 3,
    "start_time": "2021-11-16T10:10:01.288Z"
   },
   {
    "duration": 3,
    "start_time": "2021-11-16T10:10:46.923Z"
   },
   {
    "duration": 121,
    "start_time": "2021-11-16T10:37:46.494Z"
   },
   {
    "duration": 125,
    "start_time": "2021-11-16T10:38:20.632Z"
   },
   {
    "duration": 112,
    "start_time": "2021-11-16T10:46:53.001Z"
   },
   {
    "duration": 110,
    "start_time": "2021-11-16T10:48:25.775Z"
   },
   {
    "duration": 3,
    "start_time": "2021-11-16T10:50:18.720Z"
   },
   {
    "duration": 4,
    "start_time": "2021-11-16T10:50:37.649Z"
   },
   {
    "duration": 2,
    "start_time": "2021-11-16T10:50:51.884Z"
   },
   {
    "duration": 3,
    "start_time": "2021-11-16T10:51:56.237Z"
   },
   {
    "duration": 101,
    "start_time": "2021-11-16T10:53:13.791Z"
   },
   {
    "duration": 3,
    "start_time": "2021-11-16T10:55:59.186Z"
   },
   {
    "duration": 3,
    "start_time": "2021-11-16T10:56:10.751Z"
   },
   {
    "duration": 3,
    "start_time": "2021-11-16T10:56:49.038Z"
   },
   {
    "duration": 3,
    "start_time": "2021-11-16T10:56:49.174Z"
   },
   {
    "duration": 4,
    "start_time": "2021-11-16T10:56:49.414Z"
   },
   {
    "duration": 3,
    "start_time": "2021-11-16T10:56:49.680Z"
   },
   {
    "duration": 3,
    "start_time": "2021-11-16T10:56:50.370Z"
   },
   {
    "duration": 114,
    "start_time": "2021-11-16T10:59:34.518Z"
   },
   {
    "duration": 3,
    "start_time": "2021-11-16T11:01:41.201Z"
   },
   {
    "duration": 116,
    "start_time": "2021-11-16T11:01:48.754Z"
   },
   {
    "duration": 3,
    "start_time": "2021-11-16T11:02:16.685Z"
   },
   {
    "duration": 3,
    "start_time": "2021-11-16T11:02:19.479Z"
   },
   {
    "duration": 3,
    "start_time": "2021-11-16T11:02:47.067Z"
   },
   {
    "duration": 3,
    "start_time": "2021-11-16T11:02:49.353Z"
   },
   {
    "duration": 3,
    "start_time": "2021-11-16T11:03:07.835Z"
   },
   {
    "duration": 3,
    "start_time": "2021-11-16T11:03:07.953Z"
   },
   {
    "duration": 112,
    "start_time": "2021-11-16T11:07:52.072Z"
   },
   {
    "duration": 187,
    "start_time": "2021-11-16T11:09:23.468Z"
   },
   {
    "duration": 4,
    "start_time": "2021-11-16T11:10:01.455Z"
   },
   {
    "duration": 3,
    "start_time": "2021-11-16T11:10:05.069Z"
   },
   {
    "duration": 4,
    "start_time": "2021-11-16T11:10:13.376Z"
   },
   {
    "duration": 3,
    "start_time": "2021-11-16T11:10:14.434Z"
   },
   {
    "duration": 3,
    "start_time": "2021-11-16T11:10:22.853Z"
   },
   {
    "duration": 4,
    "start_time": "2021-11-16T11:27:29.279Z"
   },
   {
    "duration": 4,
    "start_time": "2021-11-16T11:29:08.919Z"
   },
   {
    "duration": 118,
    "start_time": "2021-11-16T11:29:46.703Z"
   },
   {
    "duration": 437,
    "start_time": "2021-11-16T11:36:02.181Z"
   },
   {
    "duration": 157,
    "start_time": "2021-11-16T11:36:14.388Z"
   },
   {
    "duration": 207,
    "start_time": "2021-11-16T11:47:15.898Z"
   },
   {
    "duration": 3,
    "start_time": "2021-11-16T11:53:52.092Z"
   },
   {
    "duration": 3,
    "start_time": "2021-11-16T11:53:52.236Z"
   },
   {
    "duration": 3,
    "start_time": "2021-11-16T11:59:12.005Z"
   },
   {
    "duration": 112,
    "start_time": "2021-11-16T12:00:33.446Z"
   },
   {
    "duration": 3,
    "start_time": "2021-11-16T12:02:14.453Z"
   },
   {
    "duration": 3,
    "start_time": "2021-11-16T12:02:39.512Z"
   },
   {
    "duration": 106,
    "start_time": "2021-11-16T12:03:03.460Z"
   },
   {
    "duration": 3,
    "start_time": "2021-11-17T20:37:21.139Z"
   },
   {
    "duration": 3,
    "start_time": "2021-11-17T20:37:22.229Z"
   },
   {
    "duration": 3,
    "start_time": "2021-11-17T20:38:38.806Z"
   },
   {
    "duration": 3,
    "start_time": "2021-11-17T20:38:41.958Z"
   },
   {
    "duration": 3,
    "start_time": "2021-11-17T20:43:46.551Z"
   },
   {
    "duration": 4,
    "start_time": "2021-11-17T20:58:21.835Z"
   },
   {
    "duration": 3,
    "start_time": "2021-11-17T20:59:21.872Z"
   },
   {
    "duration": 4,
    "start_time": "2021-11-17T20:59:45.352Z"
   },
   {
    "duration": 4,
    "start_time": "2021-11-17T20:59:49.646Z"
   },
   {
    "duration": 159,
    "start_time": "2021-11-17T21:02:26.949Z"
   },
   {
    "duration": 3,
    "start_time": "2021-11-17T21:03:53.461Z"
   },
   {
    "duration": 3,
    "start_time": "2021-11-17T21:03:53.694Z"
   },
   {
    "duration": 3,
    "start_time": "2021-11-17T21:05:28.145Z"
   },
   {
    "duration": 116,
    "start_time": "2021-11-17T21:05:57.787Z"
   },
   {
    "duration": 3,
    "start_time": "2021-11-17T21:06:37.993Z"
   },
   {
    "duration": 3,
    "start_time": "2021-11-17T21:06:38.261Z"
   },
   {
    "duration": 3,
    "start_time": "2021-11-17T21:11:54.358Z"
   },
   {
    "duration": 3,
    "start_time": "2021-11-17T21:12:43.846Z"
   },
   {
    "duration": 4,
    "start_time": "2021-11-17T21:13:08.773Z"
   },
   {
    "duration": 3,
    "start_time": "2021-11-17T21:14:44.441Z"
   },
   {
    "duration": 3,
    "start_time": "2021-11-17T21:15:42.059Z"
   },
   {
    "duration": 4,
    "start_time": "2021-11-17T21:15:51.995Z"
   },
   {
    "duration": 3,
    "start_time": "2021-11-17T21:15:53.923Z"
   },
   {
    "duration": 3,
    "start_time": "2021-11-17T21:15:55.282Z"
   },
   {
    "duration": 3,
    "start_time": "2021-11-17T21:16:28.492Z"
   },
   {
    "duration": 3,
    "start_time": "2021-11-17T21:16:32.603Z"
   },
   {
    "duration": 3,
    "start_time": "2021-11-17T21:17:06.941Z"
   },
   {
    "duration": 98,
    "start_time": "2021-11-17T21:18:05.733Z"
   },
   {
    "duration": 4,
    "start_time": "2021-11-17T21:21:35.255Z"
   },
   {
    "duration": 3,
    "start_time": "2021-11-17T21:21:37.804Z"
   },
   {
    "duration": 4,
    "start_time": "2021-11-17T21:23:06.071Z"
   },
   {
    "duration": 3,
    "start_time": "2021-11-17T21:23:24.799Z"
   },
   {
    "duration": 3,
    "start_time": "2021-11-17T21:23:32.591Z"
   },
   {
    "duration": 98,
    "start_time": "2021-11-17T21:28:31.559Z"
   },
   {
    "duration": 3,
    "start_time": "2021-11-17T21:28:45.448Z"
   },
   {
    "duration": 3,
    "start_time": "2021-11-17T21:29:17.303Z"
   },
   {
    "duration": 3,
    "start_time": "2021-11-17T21:29:29.617Z"
   },
   {
    "duration": 3,
    "start_time": "2021-11-17T21:29:32.681Z"
   },
   {
    "duration": 3,
    "start_time": "2021-11-17T21:36:11.474Z"
   },
   {
    "duration": 3,
    "start_time": "2021-11-17T21:36:14.791Z"
   },
   {
    "duration": 3,
    "start_time": "2021-11-17T21:36:53.943Z"
   },
   {
    "duration": 3,
    "start_time": "2021-11-17T21:36:56.165Z"
   },
   {
    "duration": 4,
    "start_time": "2021-11-17T21:37:16.590Z"
   },
   {
    "duration": 3,
    "start_time": "2021-11-17T21:37:22.702Z"
   },
   {
    "duration": 4,
    "start_time": "2021-11-17T21:38:03.479Z"
   },
   {
    "duration": 3,
    "start_time": "2021-11-17T21:38:08.601Z"
   },
   {
    "duration": 3,
    "start_time": "2021-11-17T21:38:12.928Z"
   },
   {
    "duration": 3,
    "start_time": "2021-11-17T21:38:48.896Z"
   },
   {
    "duration": 2,
    "start_time": "2021-11-17T21:38:49.171Z"
   },
   {
    "duration": 4,
    "start_time": "2021-11-17T21:39:57.889Z"
   },
   {
    "duration": 3,
    "start_time": "2021-11-17T21:39:58.057Z"
   },
   {
    "duration": 3,
    "start_time": "2021-11-17T21:41:20.108Z"
   },
   {
    "duration": 3,
    "start_time": "2021-11-17T21:41:20.629Z"
   },
   {
    "duration": 3,
    "start_time": "2021-11-17T21:42:49.136Z"
   },
   {
    "duration": 3,
    "start_time": "2021-11-17T21:43:15.137Z"
   },
   {
    "duration": 4,
    "start_time": "2021-11-17T21:43:16.766Z"
   },
   {
    "duration": 4,
    "start_time": "2021-11-17T21:43:31.711Z"
   },
   {
    "duration": 3,
    "start_time": "2021-11-17T21:43:36.312Z"
   },
   {
    "duration": 4,
    "start_time": "2021-11-17T21:45:08.825Z"
   },
   {
    "duration": 4,
    "start_time": "2021-11-17T21:45:10.119Z"
   },
   {
    "duration": 4,
    "start_time": "2021-11-17T21:45:13.748Z"
   },
   {
    "duration": 3,
    "start_time": "2021-11-17T21:45:22.219Z"
   },
   {
    "duration": 3,
    "start_time": "2021-11-17T21:45:33.412Z"
   },
   {
    "duration": 2,
    "start_time": "2021-11-17T21:46:01.885Z"
   },
   {
    "duration": 3,
    "start_time": "2021-11-17T21:46:03.628Z"
   },
   {
    "duration": 107,
    "start_time": "2021-11-17T21:47:32.512Z"
   },
   {
    "duration": 103,
    "start_time": "2021-11-17T21:50:36.243Z"
   },
   {
    "duration": 3,
    "start_time": "2021-11-18T06:28:31.440Z"
   },
   {
    "duration": 3,
    "start_time": "2021-11-18T06:29:00.168Z"
   },
   {
    "duration": 3,
    "start_time": "2021-11-18T06:31:27.008Z"
   },
   {
    "duration": 2,
    "start_time": "2021-11-18T06:35:34.288Z"
   },
   {
    "duration": 2,
    "start_time": "2021-11-18T06:38:04.527Z"
   },
   {
    "duration": 4935,
    "start_time": "2024-05-28T08:07:44.741Z"
   },
   {
    "duration": 355,
    "start_time": "2024-05-28T08:07:51.865Z"
   },
   {
    "duration": 16,
    "start_time": "2024-05-28T08:07:55.319Z"
   },
   {
    "duration": 15,
    "start_time": "2024-05-28T08:08:00.085Z"
   },
   {
    "duration": 15,
    "start_time": "2024-05-28T08:08:57.904Z"
   },
   {
    "duration": 15,
    "start_time": "2024-05-28T08:09:08.495Z"
   },
   {
    "duration": 984,
    "start_time": "2024-05-28T08:19:20.765Z"
   },
   {
    "duration": 59,
    "start_time": "2024-05-28T08:20:04.688Z"
   },
   {
    "duration": 5,
    "start_time": "2024-05-28T08:22:39.407Z"
   },
   {
    "duration": 6,
    "start_time": "2024-05-28T08:24:53.939Z"
   },
   {
    "duration": 32,
    "start_time": "2024-05-28T08:26:34.375Z"
   },
   {
    "duration": 6,
    "start_time": "2024-05-28T08:27:03.684Z"
   },
   {
    "duration": 32,
    "start_time": "2024-05-28T08:27:10.810Z"
   },
   {
    "duration": 38,
    "start_time": "2024-05-28T08:28:53.774Z"
   },
   {
    "duration": 29,
    "start_time": "2024-05-28T08:29:07.810Z"
   },
   {
    "duration": 6,
    "start_time": "2024-05-28T08:29:14.298Z"
   },
   {
    "duration": 6,
    "start_time": "2024-05-28T08:29:34.529Z"
   },
   {
    "duration": 5,
    "start_time": "2024-05-28T08:29:58.651Z"
   },
   {
    "duration": 35,
    "start_time": "2024-05-28T08:30:25.583Z"
   },
   {
    "duration": 26,
    "start_time": "2024-05-28T08:30:49.790Z"
   },
   {
    "duration": 28,
    "start_time": "2024-05-28T08:30:52.322Z"
   },
   {
    "duration": 17,
    "start_time": "2024-05-28T08:31:13.236Z"
   },
   {
    "duration": 5,
    "start_time": "2024-05-28T08:31:41.468Z"
   },
   {
    "duration": 52,
    "start_time": "2024-05-28T08:33:02.228Z"
   },
   {
    "duration": 8,
    "start_time": "2024-05-28T08:34:21.005Z"
   },
   {
    "duration": 14,
    "start_time": "2024-05-28T08:34:24.152Z"
   },
   {
    "duration": 9,
    "start_time": "2024-05-28T08:34:52.033Z"
   },
   {
    "duration": 867,
    "start_time": "2024-05-28T08:35:53.438Z"
   },
   {
    "duration": 42,
    "start_time": "2024-05-28T08:36:25.171Z"
   },
   {
    "duration": 8,
    "start_time": "2024-05-28T08:36:41.642Z"
   },
   {
    "duration": 17,
    "start_time": "2024-05-28T08:36:44.362Z"
   },
   {
    "duration": 4,
    "start_time": "2024-05-28T08:41:47.165Z"
   },
   {
    "duration": 8,
    "start_time": "2024-05-28T08:42:43.432Z"
   },
   {
    "duration": 6,
    "start_time": "2024-05-28T08:43:28.010Z"
   },
   {
    "duration": 16,
    "start_time": "2024-05-28T08:43:30.618Z"
   },
   {
    "duration": 25,
    "start_time": "2024-05-28T08:45:12.932Z"
   },
   {
    "duration": 71,
    "start_time": "2024-05-28T08:45:21.550Z"
   },
   {
    "duration": 8,
    "start_time": "2024-05-28T08:45:44.897Z"
   },
   {
    "duration": 38,
    "start_time": "2024-05-28T08:45:55.298Z"
   },
   {
    "duration": 14,
    "start_time": "2024-05-28T08:46:59.685Z"
   },
   {
    "duration": 21,
    "start_time": "2024-05-28T08:47:02.258Z"
   },
   {
    "duration": 19,
    "start_time": "2024-05-28T08:47:36.431Z"
   },
   {
    "duration": 21,
    "start_time": "2024-05-28T08:47:39.040Z"
   },
   {
    "duration": 21,
    "start_time": "2024-05-28T08:48:42.210Z"
   },
   {
    "duration": 21,
    "start_time": "2024-05-28T08:48:45.310Z"
   },
   {
    "duration": 38,
    "start_time": "2024-05-28T08:48:49.370Z"
   },
   {
    "duration": 6,
    "start_time": "2024-05-28T08:49:28.167Z"
   },
   {
    "duration": 19,
    "start_time": "2024-05-28T08:49:37.957Z"
   },
   {
    "duration": 20,
    "start_time": "2024-05-28T08:50:22.360Z"
   },
   {
    "duration": 19,
    "start_time": "2024-05-28T08:50:32.797Z"
   },
   {
    "duration": 13,
    "start_time": "2024-05-28T08:51:19.182Z"
   },
   {
    "duration": 29,
    "start_time": "2024-05-28T08:51:34.542Z"
   },
   {
    "duration": 22,
    "start_time": "2024-05-28T08:52:14.184Z"
   },
   {
    "duration": 77,
    "start_time": "2024-05-28T08:52:20.380Z"
   },
   {
    "duration": 7,
    "start_time": "2024-05-28T08:52:48.850Z"
   },
   {
    "duration": 6,
    "start_time": "2024-05-28T08:53:53.868Z"
   },
   {
    "duration": 28,
    "start_time": "2024-05-28T08:54:56.193Z"
   },
   {
    "duration": 30,
    "start_time": "2024-05-28T08:55:48.150Z"
   },
   {
    "duration": 11,
    "start_time": "2024-05-28T08:57:18.482Z"
   },
   {
    "duration": 3,
    "start_time": "2024-05-28T09:13:29.231Z"
   },
   {
    "duration": 22,
    "start_time": "2024-05-28T09:13:57.192Z"
   },
   {
    "duration": 15,
    "start_time": "2024-05-28T09:14:10.480Z"
   },
   {
    "duration": 35,
    "start_time": "2024-05-28T09:14:36.908Z"
   },
   {
    "duration": 35,
    "start_time": "2024-05-28T09:14:52.801Z"
   },
   {
    "duration": 23,
    "start_time": "2024-05-28T09:16:25.725Z"
   },
   {
    "duration": 4,
    "start_time": "2024-05-28T09:16:37.692Z"
   },
   {
    "duration": 25,
    "start_time": "2024-05-28T09:17:30.791Z"
   },
   {
    "duration": 188,
    "start_time": "2024-05-28T09:18:23.222Z"
   },
   {
    "duration": 23,
    "start_time": "2024-05-28T09:19:40.018Z"
   },
   {
    "duration": 23,
    "start_time": "2024-05-28T09:20:49.686Z"
   },
   {
    "duration": 237,
    "start_time": "2024-05-28T09:24:51.018Z"
   },
   {
    "duration": 237,
    "start_time": "2024-05-28T09:24:52.793Z"
   },
   {
    "duration": 229,
    "start_time": "2024-05-28T09:24:53.537Z"
   },
   {
    "duration": 140,
    "start_time": "2024-05-28T09:24:54.493Z"
   },
   {
    "duration": 126,
    "start_time": "2024-05-28T09:24:57.108Z"
   },
   {
    "duration": 47,
    "start_time": "2024-05-28T09:25:56.442Z"
   },
   {
    "duration": 49,
    "start_time": "2024-05-28T09:26:49.617Z"
   },
   {
    "duration": 22,
    "start_time": "2024-05-28T10:05:48.856Z"
   },
   {
    "duration": 27,
    "start_time": "2024-05-28T10:05:59.599Z"
   },
   {
    "duration": 23,
    "start_time": "2024-05-28T10:06:22.660Z"
   },
   {
    "duration": 272,
    "start_time": "2024-05-28T10:06:44.765Z"
   },
   {
    "duration": 37,
    "start_time": "2024-05-28T10:06:47.831Z"
   },
   {
    "duration": 39,
    "start_time": "2024-05-28T10:06:48.865Z"
   },
   {
    "duration": 288,
    "start_time": "2024-05-28T10:08:29.600Z"
   },
   {
    "duration": 139,
    "start_time": "2024-05-28T10:08:38.402Z"
   },
   {
    "duration": 23,
    "start_time": "2024-05-28T10:09:10.662Z"
   },
   {
    "duration": 155,
    "start_time": "2024-05-28T10:09:43.286Z"
   },
   {
    "duration": 272,
    "start_time": "2024-05-28T10:10:03.653Z"
   },
   {
    "duration": 245,
    "start_time": "2024-05-28T10:10:19.629Z"
   },
   {
    "duration": 796,
    "start_time": "2024-05-28T10:12:09.006Z"
   },
   {
    "duration": 150,
    "start_time": "2024-05-28T10:12:11.435Z"
   },
   {
    "duration": 147,
    "start_time": "2024-05-28T10:12:12.364Z"
   },
   {
    "duration": 148,
    "start_time": "2024-05-28T10:12:47.140Z"
   },
   {
    "duration": 20,
    "start_time": "2024-05-28T10:13:02.046Z"
   },
   {
    "duration": 22,
    "start_time": "2024-05-28T10:13:03.691Z"
   },
   {
    "duration": 63,
    "start_time": "2024-05-28T10:15:22.137Z"
   },
   {
    "duration": 41,
    "start_time": "2024-05-28T10:15:43.362Z"
   },
   {
    "duration": 49,
    "start_time": "2024-05-28T10:16:20.329Z"
   },
   {
    "duration": 20,
    "start_time": "2024-05-28T10:16:47.405Z"
   },
   {
    "duration": 53,
    "start_time": "2024-05-28T10:19:05.577Z"
   },
   {
    "duration": 53,
    "start_time": "2024-05-28T10:19:06.954Z"
   },
   {
    "duration": 60,
    "start_time": "2024-05-28T10:19:27.554Z"
   },
   {
    "duration": 76,
    "start_time": "2024-05-28T10:20:33.627Z"
   },
   {
    "duration": 55,
    "start_time": "2024-05-28T10:20:35.040Z"
   },
   {
    "duration": 65,
    "start_time": "2024-05-28T10:20:45.809Z"
   },
   {
    "duration": 100,
    "start_time": "2024-05-28T10:22:30.720Z"
   },
   {
    "duration": 23,
    "start_time": "2024-05-28T10:23:20.200Z"
   },
   {
    "duration": 23,
    "start_time": "2024-05-28T10:23:57.872Z"
   },
   {
    "duration": 21,
    "start_time": "2024-05-28T10:24:37.482Z"
   },
   {
    "duration": 22,
    "start_time": "2024-05-28T10:24:50.950Z"
   },
   {
    "duration": 54,
    "start_time": "2024-05-28T10:28:16.928Z"
   },
   {
    "duration": 24,
    "start_time": "2024-05-28T10:34:33.923Z"
   },
   {
    "duration": 22,
    "start_time": "2024-05-28T10:35:06.627Z"
   },
   {
    "duration": 18,
    "start_time": "2024-05-28T10:40:10.582Z"
   },
   {
    "duration": 19,
    "start_time": "2024-05-28T10:40:18.328Z"
   },
   {
    "duration": 15,
    "start_time": "2024-05-28T10:40:19.575Z"
   },
   {
    "duration": 46,
    "start_time": "2024-05-28T10:43:48.062Z"
   },
   {
    "duration": 329,
    "start_time": "2024-05-29T00:54:25.370Z"
   },
   {
    "duration": 5133,
    "start_time": "2024-05-29T00:54:35.485Z"
   },
   {
    "duration": 386,
    "start_time": "2024-05-29T00:54:40.622Z"
   },
   {
    "duration": 18,
    "start_time": "2024-05-29T00:54:41.012Z"
   },
   {
    "duration": 15,
    "start_time": "2024-05-29T00:54:41.034Z"
   },
   {
    "duration": 14,
    "start_time": "2024-05-29T00:54:41.053Z"
   },
   {
    "duration": 16,
    "start_time": "2024-05-29T00:54:41.108Z"
   },
   {
    "duration": 6,
    "start_time": "2024-05-29T00:54:41.128Z"
   },
   {
    "duration": 8,
    "start_time": "2024-05-29T00:54:41.136Z"
   },
   {
    "duration": 11,
    "start_time": "2024-05-29T00:54:41.147Z"
   },
   {
    "duration": 7,
    "start_time": "2024-05-29T00:54:41.205Z"
   },
   {
    "duration": 16,
    "start_time": "2024-05-29T00:54:41.215Z"
   },
   {
    "duration": 30,
    "start_time": "2024-05-29T00:54:41.237Z"
   },
   {
    "duration": 105,
    "start_time": "2024-05-29T00:54:41.270Z"
   },
   {
    "duration": 29,
    "start_time": "2024-05-29T00:54:41.378Z"
   },
   {
    "duration": 33,
    "start_time": "2024-05-29T00:54:41.410Z"
   },
   {
    "duration": 21,
    "start_time": "2024-05-29T00:54:41.446Z"
   },
   {
    "duration": 50,
    "start_time": "2024-05-29T00:54:41.469Z"
   },
   {
    "duration": 20,
    "start_time": "2024-05-29T00:54:41.524Z"
   },
   {
    "duration": 74,
    "start_time": "2024-05-29T00:54:41.548Z"
   },
   {
    "duration": 4,
    "start_time": "2024-05-29T00:54:41.626Z"
   },
   {
    "duration": 23,
    "start_time": "2024-05-29T00:54:41.633Z"
   },
   {
    "duration": 54,
    "start_time": "2024-05-29T00:54:41.660Z"
   },
   {
    "duration": 23,
    "start_time": "2024-05-29T00:54:41.717Z"
   },
   {
    "duration": 124,
    "start_time": "2024-05-29T00:54:41.743Z"
   },
   {
    "duration": 9,
    "start_time": "2024-05-29T00:54:41.871Z"
   },
   {
    "duration": 23,
    "start_time": "2024-05-29T00:54:41.883Z"
   },
   {
    "duration": 31,
    "start_time": "2024-05-29T00:54:41.910Z"
   },
   {
    "duration": 58,
    "start_time": "2024-05-29T00:54:41.949Z"
   },
   {
    "duration": 12,
    "start_time": "2024-05-29T00:54:42.011Z"
   },
   {
    "duration": 77,
    "start_time": "2024-05-29T00:54:42.026Z"
   },
   {
    "duration": 30,
    "start_time": "2024-05-29T00:54:42.107Z"
   },
   {
    "duration": 23,
    "start_time": "2024-05-29T00:54:42.142Z"
   },
   {
    "duration": 4,
    "start_time": "2024-05-29T00:54:42.168Z"
   },
   {
    "duration": 4,
    "start_time": "2024-05-29T00:54:42.175Z"
   },
   {
    "duration": 4,
    "start_time": "2024-05-29T00:54:42.181Z"
   },
   {
    "duration": 3,
    "start_time": "2024-05-29T00:54:42.207Z"
   },
   {
    "duration": 5,
    "start_time": "2024-05-29T00:54:42.213Z"
   },
   {
    "duration": 4,
    "start_time": "2024-05-29T00:54:42.222Z"
   },
   {
    "duration": 3,
    "start_time": "2024-05-29T00:54:42.230Z"
   },
   {
    "duration": 5,
    "start_time": "2024-05-29T00:54:42.236Z"
   },
   {
    "duration": 3,
    "start_time": "2024-05-29T00:54:42.246Z"
   },
   {
    "duration": 4,
    "start_time": "2024-05-29T00:54:42.252Z"
   },
   {
    "duration": 324,
    "start_time": "2024-05-30T06:04:52.989Z"
   },
   {
    "duration": 5417,
    "start_time": "2024-05-30T06:05:12.897Z"
   },
   {
    "duration": 415,
    "start_time": "2024-05-30T06:05:18.318Z"
   },
   {
    "duration": 15,
    "start_time": "2024-05-30T06:05:18.736Z"
   },
   {
    "duration": 16,
    "start_time": "2024-05-30T06:05:18.756Z"
   },
   {
    "duration": 14,
    "start_time": "2024-05-30T06:05:18.777Z"
   },
   {
    "duration": 49,
    "start_time": "2024-05-30T06:05:18.794Z"
   },
   {
    "duration": 7,
    "start_time": "2024-05-30T06:05:18.846Z"
   },
   {
    "duration": 6,
    "start_time": "2024-05-30T06:05:18.857Z"
   },
   {
    "duration": 12,
    "start_time": "2024-05-30T06:05:18.866Z"
   },
   {
    "duration": 54,
    "start_time": "2024-05-30T06:05:18.881Z"
   },
   {
    "duration": 15,
    "start_time": "2024-05-30T06:05:18.938Z"
   },
   {
    "duration": 24,
    "start_time": "2024-05-30T06:05:18.956Z"
   },
   {
    "duration": 110,
    "start_time": "2024-05-30T06:05:18.983Z"
   },
   {
    "duration": 7,
    "start_time": "2024-05-30T06:05:19.100Z"
   },
   {
    "duration": 33,
    "start_time": "2024-05-30T06:05:19.130Z"
   },
   {
    "duration": 20,
    "start_time": "2024-05-30T06:05:19.165Z"
   },
   {
    "duration": 49,
    "start_time": "2024-05-30T06:05:19.188Z"
   },
   {
    "duration": 20,
    "start_time": "2024-05-30T06:05:19.240Z"
   },
   {
    "duration": 70,
    "start_time": "2024-05-30T06:05:19.263Z"
   },
   {
    "duration": 5,
    "start_time": "2024-05-30T06:05:19.336Z"
   },
   {
    "duration": 21,
    "start_time": "2024-05-30T06:05:19.344Z"
   },
   {
    "duration": 26,
    "start_time": "2024-05-30T06:05:19.368Z"
   },
   {
    "duration": 25,
    "start_time": "2024-05-30T06:05:19.432Z"
   },
   {
    "duration": 117,
    "start_time": "2024-05-30T06:05:19.460Z"
   },
   {
    "duration": 8,
    "start_time": "2024-05-30T06:05:19.580Z"
   },
   {
    "duration": 7,
    "start_time": "2024-05-30T06:05:19.590Z"
   },
   {
    "duration": 26,
    "start_time": "2024-05-30T06:05:19.629Z"
   },
   {
    "duration": 30,
    "start_time": "2024-05-30T06:05:19.658Z"
   },
   {
    "duration": 39,
    "start_time": "2024-05-30T06:05:19.691Z"
   },
   {
    "duration": 50,
    "start_time": "2024-05-30T06:05:19.733Z"
   },
   {
    "duration": 22,
    "start_time": "2024-05-30T06:05:19.786Z"
   },
   {
    "duration": 20,
    "start_time": "2024-05-30T06:05:19.810Z"
   },
   {
    "duration": 4,
    "start_time": "2024-05-30T06:05:19.833Z"
   },
   {
    "duration": 4,
    "start_time": "2024-05-30T06:05:19.839Z"
   },
   {
    "duration": 4,
    "start_time": "2024-05-30T06:05:19.846Z"
   },
   {
    "duration": 3,
    "start_time": "2024-05-30T06:05:19.853Z"
   },
   {
    "duration": 4,
    "start_time": "2024-05-30T06:05:19.859Z"
   },
   {
    "duration": 4,
    "start_time": "2024-05-30T06:05:19.866Z"
   },
   {
    "duration": 3,
    "start_time": "2024-05-30T06:05:19.874Z"
   },
   {
    "duration": 54,
    "start_time": "2024-05-30T06:05:19.879Z"
   },
   {
    "duration": 6,
    "start_time": "2024-05-30T06:05:19.942Z"
   },
   {
    "duration": 4,
    "start_time": "2024-05-30T06:05:19.951Z"
   },
   {
    "duration": 31,
    "start_time": "2024-05-30T06:05:31.277Z"
   },
   {
    "duration": 30,
    "start_time": "2024-05-30T06:05:33.593Z"
   },
   {
    "duration": 13,
    "start_time": "2024-05-30T06:05:42.835Z"
   },
   {
    "duration": 11,
    "start_time": "2024-05-30T06:05:51.588Z"
   },
   {
    "duration": 37,
    "start_time": "2024-05-30T06:08:13.788Z"
   },
   {
    "duration": 18,
    "start_time": "2024-05-30T06:08:15.607Z"
   },
   {
    "duration": 15,
    "start_time": "2024-05-30T06:08:17.359Z"
   },
   {
    "duration": 20,
    "start_time": "2024-05-30T06:08:50.810Z"
   },
   {
    "duration": 40,
    "start_time": "2024-05-30T06:09:03.263Z"
   },
   {
    "duration": 19,
    "start_time": "2024-05-30T06:09:14.001Z"
   },
   {
    "duration": 11,
    "start_time": "2024-05-30T06:09:31.864Z"
   },
   {
    "duration": 9,
    "start_time": "2024-05-30T06:09:50.880Z"
   },
   {
    "duration": 6,
    "start_time": "2024-05-30T06:10:17.162Z"
   },
   {
    "duration": 6,
    "start_time": "2024-05-30T06:10:29.486Z"
   },
   {
    "duration": 6,
    "start_time": "2024-05-30T06:10:51.536Z"
   },
   {
    "duration": 226,
    "start_time": "2024-05-30T06:15:42.011Z"
   },
   {
    "duration": 37,
    "start_time": "2024-05-30T06:17:43.957Z"
   },
   {
    "duration": 16,
    "start_time": "2024-05-30T06:17:45.867Z"
   },
   {
    "duration": 14,
    "start_time": "2024-05-30T06:17:47.432Z"
   },
   {
    "duration": 5,
    "start_time": "2024-05-30T06:18:02.369Z"
   },
   {
    "duration": 6,
    "start_time": "2024-05-30T06:18:16.598Z"
   },
   {
    "duration": 224,
    "start_time": "2024-05-30T06:18:40.514Z"
   },
   {
    "duration": 6,
    "start_time": "2024-05-30T06:18:57.103Z"
   },
   {
    "duration": 700,
    "start_time": "2024-05-30T06:22:21.986Z"
   },
   {
    "duration": 43,
    "start_time": "2024-05-30T06:25:44.876Z"
   },
   {
    "duration": 42,
    "start_time": "2024-05-30T06:25:49.031Z"
   },
   {
    "duration": 5,
    "start_time": "2024-05-30T06:26:07.931Z"
   },
   {
    "duration": 40,
    "start_time": "2024-05-30T06:26:22.949Z"
   },
   {
    "duration": 40,
    "start_time": "2024-05-30T06:26:39.411Z"
   },
   {
    "duration": 41,
    "start_time": "2024-05-30T06:26:41.675Z"
   },
   {
    "duration": 6,
    "start_time": "2024-05-30T06:26:43.654Z"
   },
   {
    "duration": 43,
    "start_time": "2024-05-30T06:35:53.910Z"
   },
   {
    "duration": 5,
    "start_time": "2024-05-30T06:36:06.960Z"
   },
   {
    "duration": 319,
    "start_time": "2024-06-03T01:26:00.570Z"
   },
   {
    "duration": 4850,
    "start_time": "2024-06-03T01:26:12.477Z"
   },
   {
    "duration": 354,
    "start_time": "2024-06-03T01:26:17.330Z"
   },
   {
    "duration": 16,
    "start_time": "2024-06-03T01:26:17.687Z"
   },
   {
    "duration": 15,
    "start_time": "2024-06-03T01:26:17.708Z"
   },
   {
    "duration": 14,
    "start_time": "2024-06-03T01:26:17.727Z"
   },
   {
    "duration": 16,
    "start_time": "2024-06-03T01:26:17.744Z"
   },
   {
    "duration": 45,
    "start_time": "2024-06-03T01:26:17.763Z"
   },
   {
    "duration": 9,
    "start_time": "2024-06-03T01:26:17.811Z"
   },
   {
    "duration": 9,
    "start_time": "2024-06-03T01:26:17.824Z"
   },
   {
    "duration": 6,
    "start_time": "2024-06-03T01:26:17.839Z"
   },
   {
    "duration": 60,
    "start_time": "2024-06-03T01:26:17.848Z"
   },
   {
    "duration": 33,
    "start_time": "2024-06-03T01:26:17.911Z"
   },
   {
    "duration": 92,
    "start_time": "2024-06-03T01:26:17.947Z"
   },
   {
    "duration": 10,
    "start_time": "2024-06-03T01:26:18.042Z"
   },
   {
    "duration": 58,
    "start_time": "2024-06-03T01:26:18.055Z"
   },
   {
    "duration": 20,
    "start_time": "2024-06-03T01:26:18.116Z"
   },
   {
    "duration": 20,
    "start_time": "2024-06-03T01:26:18.139Z"
   },
   {
    "duration": 49,
    "start_time": "2024-06-03T01:26:18.162Z"
   },
   {
    "duration": 40,
    "start_time": "2024-06-03T01:26:18.215Z"
   },
   {
    "duration": 5,
    "start_time": "2024-06-03T01:26:18.258Z"
   },
   {
    "duration": 57,
    "start_time": "2024-06-03T01:26:18.267Z"
   },
   {
    "duration": 26,
    "start_time": "2024-06-03T01:26:18.327Z"
   },
   {
    "duration": 51,
    "start_time": "2024-06-03T01:26:18.355Z"
   },
   {
    "duration": 101,
    "start_time": "2024-06-03T01:26:18.409Z"
   },
   {
    "duration": 8,
    "start_time": "2024-06-03T01:26:18.514Z"
   },
   {
    "duration": 8,
    "start_time": "2024-06-03T01:26:18.525Z"
   },
   {
    "duration": 25,
    "start_time": "2024-06-03T01:26:18.536Z"
   },
   {
    "duration": 31,
    "start_time": "2024-06-03T01:26:18.605Z"
   },
   {
    "duration": 11,
    "start_time": "2024-06-03T01:26:18.639Z"
   },
   {
    "duration": 62,
    "start_time": "2024-06-03T01:26:18.654Z"
   },
   {
    "duration": 21,
    "start_time": "2024-06-03T01:26:18.719Z"
   },
   {
    "duration": 47,
    "start_time": "2024-06-03T01:26:18.743Z"
   },
   {
    "duration": 16,
    "start_time": "2024-06-03T01:26:18.792Z"
   },
   {
    "duration": 242,
    "start_time": "2024-06-03T01:26:18.813Z"
   },
   {
    "duration": 0,
    "start_time": "2024-06-03T01:26:19.058Z"
   },
   {
    "duration": 0,
    "start_time": "2024-06-03T01:26:19.060Z"
   },
   {
    "duration": 0,
    "start_time": "2024-06-03T01:26:19.063Z"
   },
   {
    "duration": 0,
    "start_time": "2024-06-03T01:26:19.065Z"
   },
   {
    "duration": 0,
    "start_time": "2024-06-03T01:26:19.067Z"
   },
   {
    "duration": 0,
    "start_time": "2024-06-03T01:26:19.069Z"
   },
   {
    "duration": 0,
    "start_time": "2024-06-03T01:26:19.071Z"
   },
   {
    "duration": 0,
    "start_time": "2024-06-03T01:26:19.073Z"
   },
   {
    "duration": 0,
    "start_time": "2024-06-03T01:26:19.105Z"
   },
   {
    "duration": 0,
    "start_time": "2024-06-03T01:26:19.109Z"
   },
   {
    "duration": 10,
    "start_time": "2024-06-03T01:28:18.353Z"
   },
   {
    "duration": 31,
    "start_time": "2024-06-03T01:28:33.421Z"
   },
   {
    "duration": 13,
    "start_time": "2024-06-03T01:29:24.496Z"
   },
   {
    "duration": 23,
    "start_time": "2024-06-03T01:29:32.289Z"
   },
   {
    "duration": 13,
    "start_time": "2024-06-03T01:29:51.783Z"
   },
   {
    "duration": 10,
    "start_time": "2024-06-03T01:29:53.743Z"
   },
   {
    "duration": 6,
    "start_time": "2024-06-03T01:29:54.709Z"
   },
   {
    "duration": 5,
    "start_time": "2024-06-03T01:30:10.318Z"
   },
   {
    "duration": 6,
    "start_time": "2024-06-03T01:30:50.856Z"
   },
   {
    "duration": 7,
    "start_time": "2024-06-03T01:31:43.228Z"
   },
   {
    "duration": 6,
    "start_time": "2024-06-03T01:31:51.376Z"
   },
   {
    "duration": 5,
    "start_time": "2024-06-03T01:32:23.010Z"
   },
   {
    "duration": 6,
    "start_time": "2024-06-03T01:34:41.900Z"
   },
   {
    "duration": 6,
    "start_time": "2024-06-03T01:35:13.294Z"
   },
   {
    "duration": 2542,
    "start_time": "2024-06-03T01:47:29.155Z"
   },
   {
    "duration": 5,
    "start_time": "2024-06-03T01:48:29.259Z"
   },
   {
    "duration": 2547,
    "start_time": "2024-06-03T01:49:59.283Z"
   },
   {
    "duration": 2578,
    "start_time": "2024-06-03T01:50:30.793Z"
   },
   {
    "duration": 6,
    "start_time": "2024-06-03T01:50:45.208Z"
   },
   {
    "duration": 6,
    "start_time": "2024-06-03T01:52:42.583Z"
   },
   {
    "duration": 1301,
    "start_time": "2024-06-03T01:59:27.159Z"
   },
   {
    "duration": 7,
    "start_time": "2024-06-03T01:59:40.565Z"
   },
   {
    "duration": 6,
    "start_time": "2024-06-03T02:00:41.270Z"
   },
   {
    "duration": 1935,
    "start_time": "2024-06-03T02:04:43.300Z"
   },
   {
    "duration": 6,
    "start_time": "2024-06-03T02:04:56.523Z"
   },
   {
    "duration": 7,
    "start_time": "2024-06-03T02:05:38.403Z"
   },
   {
    "duration": 6,
    "start_time": "2024-06-03T02:07:12.630Z"
   },
   {
    "duration": 6,
    "start_time": "2024-06-03T02:07:38.856Z"
   },
   {
    "duration": 17,
    "start_time": "2024-06-03T02:12:35.171Z"
   },
   {
    "duration": 323,
    "start_time": "2024-06-03T02:14:16.205Z"
   },
   {
    "duration": 23,
    "start_time": "2024-06-03T02:14:19.615Z"
   },
   {
    "duration": 24,
    "start_time": "2024-06-03T02:14:25.989Z"
   },
   {
    "duration": 1275,
    "start_time": "2024-06-03T02:14:34.362Z"
   },
   {
    "duration": 357,
    "start_time": "2024-06-03T02:14:35.641Z"
   },
   {
    "duration": 18,
    "start_time": "2024-06-03T02:14:36.000Z"
   },
   {
    "duration": 15,
    "start_time": "2024-06-03T02:14:36.023Z"
   },
   {
    "duration": 14,
    "start_time": "2024-06-03T02:14:36.041Z"
   },
   {
    "duration": 51,
    "start_time": "2024-06-03T02:14:36.058Z"
   },
   {
    "duration": 6,
    "start_time": "2024-06-03T02:14:36.112Z"
   },
   {
    "duration": 6,
    "start_time": "2024-06-03T02:14:36.121Z"
   },
   {
    "duration": 10,
    "start_time": "2024-06-03T02:14:36.131Z"
   },
   {
    "duration": 6,
    "start_time": "2024-06-03T02:14:36.147Z"
   },
   {
    "duration": 63,
    "start_time": "2024-06-03T02:14:36.156Z"
   },
   {
    "duration": 24,
    "start_time": "2024-06-03T02:14:36.222Z"
   },
   {
    "duration": 107,
    "start_time": "2024-06-03T02:14:36.249Z"
   },
   {
    "duration": 8,
    "start_time": "2024-06-03T02:14:36.359Z"
   },
   {
    "duration": 53,
    "start_time": "2024-06-03T02:14:36.370Z"
   },
   {
    "duration": 19,
    "start_time": "2024-06-03T02:14:36.426Z"
   },
   {
    "duration": 20,
    "start_time": "2024-06-03T02:14:36.448Z"
   },
   {
    "duration": 50,
    "start_time": "2024-06-03T02:14:36.471Z"
   },
   {
    "duration": 40,
    "start_time": "2024-06-03T02:14:36.524Z"
   },
   {
    "duration": 5,
    "start_time": "2024-06-03T02:14:36.567Z"
   },
   {
    "duration": 52,
    "start_time": "2024-06-03T02:14:36.575Z"
   },
   {
    "duration": 26,
    "start_time": "2024-06-03T02:14:36.630Z"
   },
   {
    "duration": 50,
    "start_time": "2024-06-03T02:14:36.658Z"
   },
   {
    "duration": 94,
    "start_time": "2024-06-03T02:14:36.712Z"
   },
   {
    "duration": 8,
    "start_time": "2024-06-03T02:14:36.809Z"
   },
   {
    "duration": 6,
    "start_time": "2024-06-03T02:14:36.819Z"
   },
   {
    "duration": 26,
    "start_time": "2024-06-03T02:14:36.828Z"
   },
   {
    "duration": 69,
    "start_time": "2024-06-03T02:14:36.861Z"
   },
   {
    "duration": 11,
    "start_time": "2024-06-03T02:14:36.934Z"
   },
   {
    "duration": 2653,
    "start_time": "2024-06-03T02:14:36.948Z"
   },
   {
    "duration": 1301,
    "start_time": "2024-06-03T02:14:39.604Z"
   },
   {
    "duration": 1976,
    "start_time": "2024-06-03T02:14:40.907Z"
   },
   {
    "duration": 19,
    "start_time": "2024-06-03T02:14:42.887Z"
   },
   {
    "duration": 321,
    "start_time": "2024-06-03T02:16:16.001Z"
   },
   {
    "duration": 22,
    "start_time": "2024-06-03T02:16:28.626Z"
   },
   {
    "duration": 24,
    "start_time": "2024-06-03T02:16:29.177Z"
   },
   {
    "duration": 1287,
    "start_time": "2024-06-03T02:16:35.953Z"
   },
   {
    "duration": 360,
    "start_time": "2024-06-03T02:16:37.244Z"
   },
   {
    "duration": 16,
    "start_time": "2024-06-03T02:16:37.607Z"
   },
   {
    "duration": 15,
    "start_time": "2024-06-03T02:16:37.628Z"
   },
   {
    "duration": 14,
    "start_time": "2024-06-03T02:16:37.646Z"
   },
   {
    "duration": 51,
    "start_time": "2024-06-03T02:16:37.663Z"
   },
   {
    "duration": 5,
    "start_time": "2024-06-03T02:16:37.717Z"
   },
   {
    "duration": 6,
    "start_time": "2024-06-03T02:16:37.725Z"
   },
   {
    "duration": 9,
    "start_time": "2024-06-03T02:16:37.735Z"
   },
   {
    "duration": 55,
    "start_time": "2024-06-03T02:16:37.751Z"
   },
   {
    "duration": 15,
    "start_time": "2024-06-03T02:16:37.809Z"
   },
   {
    "duration": 25,
    "start_time": "2024-06-03T02:16:37.827Z"
   },
   {
    "duration": 115,
    "start_time": "2024-06-03T02:16:37.854Z"
   },
   {
    "duration": 8,
    "start_time": "2024-06-03T02:16:37.973Z"
   },
   {
    "duration": 37,
    "start_time": "2024-06-03T02:16:38.006Z"
   },
   {
    "duration": 20,
    "start_time": "2024-06-03T02:16:38.046Z"
   },
   {
    "duration": 50,
    "start_time": "2024-06-03T02:16:38.068Z"
   },
   {
    "duration": 20,
    "start_time": "2024-06-03T02:16:38.121Z"
   },
   {
    "duration": 72,
    "start_time": "2024-06-03T02:16:38.146Z"
   },
   {
    "duration": 5,
    "start_time": "2024-06-03T02:16:38.222Z"
   },
   {
    "duration": 19,
    "start_time": "2024-06-03T02:16:38.230Z"
   },
   {
    "duration": 59,
    "start_time": "2024-06-03T02:16:38.252Z"
   },
   {
    "duration": 23,
    "start_time": "2024-06-03T02:16:38.315Z"
   },
   {
    "duration": 106,
    "start_time": "2024-06-03T02:16:38.342Z"
   },
   {
    "duration": 8,
    "start_time": "2024-06-03T02:16:38.452Z"
   },
   {
    "duration": 6,
    "start_time": "2024-06-03T02:16:38.464Z"
   },
   {
    "duration": 54,
    "start_time": "2024-06-03T02:16:38.473Z"
   },
   {
    "duration": 29,
    "start_time": "2024-06-03T02:16:38.534Z"
   },
   {
    "duration": 40,
    "start_time": "2024-06-03T02:16:38.567Z"
   },
   {
    "duration": 2573,
    "start_time": "2024-06-03T02:16:38.612Z"
   },
   {
    "duration": 1267,
    "start_time": "2024-06-03T02:16:41.187Z"
   },
   {
    "duration": 1946,
    "start_time": "2024-06-03T02:16:42.457Z"
   },
   {
    "duration": 19,
    "start_time": "2024-06-03T02:16:44.406Z"
   },
   {
    "duration": 3,
    "start_time": "2024-06-03T02:16:44.428Z"
   },
   {
    "duration": 4,
    "start_time": "2024-06-03T02:16:44.434Z"
   },
   {
    "duration": 4,
    "start_time": "2024-06-03T02:16:44.440Z"
   },
   {
    "duration": 5,
    "start_time": "2024-06-03T02:16:44.447Z"
   },
   {
    "duration": 51,
    "start_time": "2024-06-03T02:16:44.455Z"
   },
   {
    "duration": 5,
    "start_time": "2024-06-03T02:16:44.508Z"
   },
   {
    "duration": 4,
    "start_time": "2024-06-03T02:16:44.516Z"
   },
   {
    "duration": 4,
    "start_time": "2024-06-03T02:16:44.523Z"
   },
   {
    "duration": 4,
    "start_time": "2024-06-03T02:16:44.529Z"
   },
   {
    "duration": 4,
    "start_time": "2024-06-03T02:16:44.536Z"
   },
   {
    "duration": 1911,
    "start_time": "2024-06-03T02:17:04.719Z"
   },
   {
    "duration": 14,
    "start_time": "2024-06-03T02:17:09.604Z"
   },
   {
    "duration": 11,
    "start_time": "2024-06-03T02:17:53.506Z"
   },
   {
    "duration": 1017,
    "start_time": "2024-06-03T02:20:28.727Z"
   },
   {
    "duration": 12,
    "start_time": "2024-06-03T02:20:58.144Z"
   },
   {
    "duration": 12,
    "start_time": "2024-06-03T02:21:25.427Z"
   },
   {
    "duration": 25,
    "start_time": "2024-06-03T02:22:07.245Z"
   },
   {
    "duration": 314,
    "start_time": "2024-06-03T02:31:39.303Z"
   },
   {
    "duration": 1366,
    "start_time": "2024-06-03T02:31:46.798Z"
   },
   {
    "duration": 352,
    "start_time": "2024-06-03T02:31:48.167Z"
   },
   {
    "duration": 15,
    "start_time": "2024-06-03T02:31:48.523Z"
   },
   {
    "duration": 15,
    "start_time": "2024-06-03T02:31:48.543Z"
   },
   {
    "duration": 47,
    "start_time": "2024-06-03T02:31:48.561Z"
   },
   {
    "duration": 15,
    "start_time": "2024-06-03T02:31:48.614Z"
   },
   {
    "duration": 6,
    "start_time": "2024-06-03T02:31:48.632Z"
   },
   {
    "duration": 6,
    "start_time": "2024-06-03T02:31:48.641Z"
   },
   {
    "duration": 10,
    "start_time": "2024-06-03T02:31:48.650Z"
   },
   {
    "duration": 46,
    "start_time": "2024-06-03T02:31:48.667Z"
   },
   {
    "duration": 16,
    "start_time": "2024-06-03T02:31:48.716Z"
   },
   {
    "duration": 25,
    "start_time": "2024-06-03T02:31:48.735Z"
   },
   {
    "duration": 116,
    "start_time": "2024-06-03T02:31:48.763Z"
   },
   {
    "duration": 26,
    "start_time": "2024-06-03T02:31:48.882Z"
   },
   {
    "duration": 34,
    "start_time": "2024-06-03T02:31:48.913Z"
   },
   {
    "duration": 20,
    "start_time": "2024-06-03T02:31:48.950Z"
   },
   {
    "duration": 50,
    "start_time": "2024-06-03T02:31:48.972Z"
   },
   {
    "duration": 25,
    "start_time": "2024-06-03T02:31:49.025Z"
   },
   {
    "duration": 68,
    "start_time": "2024-06-03T02:31:49.053Z"
   },
   {
    "duration": 5,
    "start_time": "2024-06-03T02:31:49.124Z"
   },
   {
    "duration": 20,
    "start_time": "2024-06-03T02:31:49.132Z"
   },
   {
    "duration": 57,
    "start_time": "2024-06-03T02:31:49.156Z"
   },
   {
    "duration": 22,
    "start_time": "2024-06-03T02:31:49.216Z"
   },
   {
    "duration": 111,
    "start_time": "2024-06-03T02:31:49.241Z"
   },
   {
    "duration": 7,
    "start_time": "2024-06-03T02:31:49.355Z"
   },
   {
    "duration": 6,
    "start_time": "2024-06-03T02:31:49.365Z"
   },
   {
    "duration": 50,
    "start_time": "2024-06-03T02:31:49.375Z"
   },
   {
    "duration": 30,
    "start_time": "2024-06-03T02:31:49.433Z"
   },
   {
    "duration": 12,
    "start_time": "2024-06-03T02:31:49.466Z"
   },
   {
    "duration": 2561,
    "start_time": "2024-06-03T02:31:49.508Z"
   },
   {
    "duration": 1263,
    "start_time": "2024-06-03T02:31:52.072Z"
   },
   {
    "duration": 1948,
    "start_time": "2024-06-03T02:31:53.339Z"
   },
   {
    "duration": 3,
    "start_time": "2024-06-03T02:31:55.311Z"
   },
   {
    "duration": 4,
    "start_time": "2024-06-03T02:31:55.317Z"
   },
   {
    "duration": 4,
    "start_time": "2024-06-03T02:31:55.324Z"
   },
   {
    "duration": 3,
    "start_time": "2024-06-03T02:31:55.332Z"
   },
   {
    "duration": 4,
    "start_time": "2024-06-03T02:31:55.338Z"
   },
   {
    "duration": 4,
    "start_time": "2024-06-03T02:31:55.345Z"
   },
   {
    "duration": 53,
    "start_time": "2024-06-03T02:31:55.353Z"
   },
   {
    "duration": 4,
    "start_time": "2024-06-03T02:31:55.409Z"
   },
   {
    "duration": 3,
    "start_time": "2024-06-03T02:31:55.416Z"
   },
   {
    "duration": 4,
    "start_time": "2024-06-03T02:31:55.422Z"
   },
   {
    "duration": 11,
    "start_time": "2024-06-03T02:31:55.432Z"
   },
   {
    "duration": 6,
    "start_time": "2024-06-03T02:35:08.436Z"
   },
   {
    "duration": 5,
    "start_time": "2024-06-03T02:35:58.939Z"
   },
   {
    "duration": 6,
    "start_time": "2024-06-03T02:36:11.282Z"
   },
   {
    "duration": 657,
    "start_time": "2024-06-03T02:37:43.889Z"
   },
   {
    "duration": 682,
    "start_time": "2024-06-03T02:37:49.425Z"
   },
   {
    "duration": 315,
    "start_time": "2024-06-03T02:38:23.409Z"
   },
   {
    "duration": 1283,
    "start_time": "2024-06-03T02:38:29.762Z"
   },
   {
    "duration": 356,
    "start_time": "2024-06-03T02:38:31.049Z"
   },
   {
    "duration": 18,
    "start_time": "2024-06-03T02:38:31.407Z"
   },
   {
    "duration": 15,
    "start_time": "2024-06-03T02:38:31.429Z"
   },
   {
    "duration": 15,
    "start_time": "2024-06-03T02:38:31.447Z"
   },
   {
    "duration": 56,
    "start_time": "2024-06-03T02:38:31.465Z"
   },
   {
    "duration": 5,
    "start_time": "2024-06-03T02:38:31.524Z"
   },
   {
    "duration": 7,
    "start_time": "2024-06-03T02:38:31.532Z"
   },
   {
    "duration": 12,
    "start_time": "2024-06-03T02:38:31.542Z"
   },
   {
    "duration": 7,
    "start_time": "2024-06-03T02:38:31.605Z"
   },
   {
    "duration": 16,
    "start_time": "2024-06-03T02:38:31.615Z"
   },
   {
    "duration": 26,
    "start_time": "2024-06-03T02:38:31.633Z"
   },
   {
    "duration": 109,
    "start_time": "2024-06-03T02:38:31.661Z"
   },
   {
    "duration": 8,
    "start_time": "2024-06-03T02:38:31.773Z"
   },
   {
    "duration": 35,
    "start_time": "2024-06-03T02:38:31.807Z"
   },
   {
    "duration": 20,
    "start_time": "2024-06-03T02:38:31.845Z"
   },
   {
    "duration": 48,
    "start_time": "2024-06-03T02:38:31.868Z"
   },
   {
    "duration": 21,
    "start_time": "2024-06-03T02:38:31.919Z"
   },
   {
    "duration": 63,
    "start_time": "2024-06-03T02:38:31.943Z"
   },
   {
    "duration": 6,
    "start_time": "2024-06-03T02:38:32.008Z"
   },
   {
    "duration": 19,
    "start_time": "2024-06-03T02:38:32.018Z"
   },
   {
    "duration": 26,
    "start_time": "2024-06-03T02:38:32.040Z"
   },
   {
    "duration": 23,
    "start_time": "2024-06-03T02:38:32.106Z"
   },
   {
    "duration": 102,
    "start_time": "2024-06-03T02:38:32.132Z"
   },
   {
    "duration": 7,
    "start_time": "2024-06-03T02:38:32.237Z"
   },
   {
    "duration": 6,
    "start_time": "2024-06-03T02:38:32.247Z"
   },
   {
    "duration": 53,
    "start_time": "2024-06-03T02:38:32.256Z"
   },
   {
    "duration": 30,
    "start_time": "2024-06-03T02:38:32.317Z"
   },
   {
    "duration": 10,
    "start_time": "2024-06-03T02:38:32.350Z"
   },
   {
    "duration": 2684,
    "start_time": "2024-06-03T02:38:32.364Z"
   },
   {
    "duration": 1294,
    "start_time": "2024-06-03T02:38:35.050Z"
   },
   {
    "duration": 2008,
    "start_time": "2024-06-03T02:38:36.347Z"
   },
   {
    "duration": 17,
    "start_time": "2024-06-03T02:38:38.358Z"
   },
   {
    "duration": 662,
    "start_time": "2024-06-03T02:38:38.378Z"
   },
   {
    "duration": 6,
    "start_time": "2024-06-03T02:38:39.043Z"
   },
   {
    "duration": 3,
    "start_time": "2024-06-03T02:38:39.052Z"
   },
   {
    "duration": 4,
    "start_time": "2024-06-03T02:38:39.058Z"
   },
   {
    "duration": 3,
    "start_time": "2024-06-03T02:38:39.065Z"
   },
   {
    "duration": 35,
    "start_time": "2024-06-03T02:38:39.072Z"
   },
   {
    "duration": 5,
    "start_time": "2024-06-03T02:38:39.110Z"
   },
   {
    "duration": 3,
    "start_time": "2024-06-03T02:38:39.118Z"
   },
   {
    "duration": 6,
    "start_time": "2024-06-03T02:38:39.124Z"
   },
   {
    "duration": 3,
    "start_time": "2024-06-03T02:38:39.133Z"
   },
   {
    "duration": 5,
    "start_time": "2024-06-03T02:38:39.139Z"
   },
   {
    "duration": 698,
    "start_time": "2024-06-03T02:38:56.045Z"
   },
   {
    "duration": 1147,
    "start_time": "2024-06-03T02:39:29.378Z"
   },
   {
    "duration": 698,
    "start_time": "2024-06-03T02:39:39.629Z"
   },
   {
    "duration": 701,
    "start_time": "2024-06-03T02:39:56.950Z"
   },
   {
    "duration": 392,
    "start_time": "2024-06-03T02:40:43.901Z"
   },
   {
    "duration": 378,
    "start_time": "2024-06-03T02:41:07.658Z"
   },
   {
    "duration": 355,
    "start_time": "2024-06-03T02:41:34.658Z"
   },
   {
    "duration": 316,
    "start_time": "2024-06-03T02:42:21.505Z"
   },
   {
    "duration": 1276,
    "start_time": "2024-06-03T02:42:28.960Z"
   },
   {
    "duration": 355,
    "start_time": "2024-06-03T02:42:30.239Z"
   },
   {
    "duration": 16,
    "start_time": "2024-06-03T02:42:30.596Z"
   },
   {
    "duration": 17,
    "start_time": "2024-06-03T02:42:30.617Z"
   },
   {
    "duration": 14,
    "start_time": "2024-06-03T02:42:30.638Z"
   },
   {
    "duration": 55,
    "start_time": "2024-06-03T02:42:30.656Z"
   },
   {
    "duration": 5,
    "start_time": "2024-06-03T02:42:30.714Z"
   },
   {
    "duration": 7,
    "start_time": "2024-06-03T02:42:30.723Z"
   },
   {
    "duration": 10,
    "start_time": "2024-06-03T02:42:30.733Z"
   },
   {
    "duration": 6,
    "start_time": "2024-06-03T02:42:30.748Z"
   },
   {
    "duration": 61,
    "start_time": "2024-06-03T02:42:30.758Z"
   },
   {
    "duration": 25,
    "start_time": "2024-06-03T02:42:30.822Z"
   },
   {
    "duration": 104,
    "start_time": "2024-06-03T02:42:30.850Z"
   },
   {
    "duration": 8,
    "start_time": "2024-06-03T02:42:30.957Z"
   },
   {
    "duration": 53,
    "start_time": "2024-06-03T02:42:30.968Z"
   },
   {
    "duration": 20,
    "start_time": "2024-06-03T02:42:31.024Z"
   },
   {
    "duration": 21,
    "start_time": "2024-06-03T02:42:31.047Z"
   },
   {
    "duration": 51,
    "start_time": "2024-06-03T02:42:31.071Z"
   },
   {
    "duration": 39,
    "start_time": "2024-06-03T02:42:31.125Z"
   },
   {
    "duration": 5,
    "start_time": "2024-06-03T02:42:31.168Z"
   },
   {
    "duration": 20,
    "start_time": "2024-06-03T02:42:31.207Z"
   },
   {
    "duration": 26,
    "start_time": "2024-06-03T02:42:31.229Z"
   },
   {
    "duration": 50,
    "start_time": "2024-06-03T02:42:31.258Z"
   },
   {
    "duration": 94,
    "start_time": "2024-06-03T02:42:31.312Z"
   },
   {
    "duration": 10,
    "start_time": "2024-06-03T02:42:31.409Z"
   },
   {
    "duration": 6,
    "start_time": "2024-06-03T02:42:31.422Z"
   },
   {
    "duration": 26,
    "start_time": "2024-06-03T02:42:31.430Z"
   },
   {
    "duration": 66,
    "start_time": "2024-06-03T02:42:31.464Z"
   },
   {
    "duration": 12,
    "start_time": "2024-06-03T02:42:31.533Z"
   },
   {
    "duration": 2608,
    "start_time": "2024-06-03T02:42:31.548Z"
   },
   {
    "duration": 1245,
    "start_time": "2024-06-03T02:42:34.159Z"
   },
   {
    "duration": 1935,
    "start_time": "2024-06-03T02:42:35.406Z"
   },
   {
    "duration": 18,
    "start_time": "2024-06-03T02:42:37.344Z"
   },
   {
    "duration": 361,
    "start_time": "2024-06-03T02:42:37.365Z"
   },
   {
    "duration": 4,
    "start_time": "2024-06-03T02:42:37.728Z"
   },
   {
    "duration": 3,
    "start_time": "2024-06-03T02:42:37.735Z"
   },
   {
    "duration": 4,
    "start_time": "2024-06-03T02:42:37.741Z"
   },
   {
    "duration": 7,
    "start_time": "2024-06-03T02:42:37.748Z"
   },
   {
    "duration": 4,
    "start_time": "2024-06-03T02:42:37.757Z"
   },
   {
    "duration": 43,
    "start_time": "2024-06-03T02:42:37.765Z"
   },
   {
    "duration": 3,
    "start_time": "2024-06-03T02:42:37.812Z"
   },
   {
    "duration": 3,
    "start_time": "2024-06-03T02:42:37.818Z"
   },
   {
    "duration": 3,
    "start_time": "2024-06-03T02:42:37.825Z"
   },
   {
    "duration": 2,
    "start_time": "2024-06-03T02:42:37.832Z"
   },
   {
    "duration": 10,
    "start_time": "2024-06-03T02:51:12.458Z"
   },
   {
    "duration": 27,
    "start_time": "2024-06-03T02:51:31.669Z"
   },
   {
    "duration": 27,
    "start_time": "2024-06-03T02:51:50.610Z"
   },
   {
    "duration": 18,
    "start_time": "2024-06-03T02:52:12.724Z"
   },
   {
    "duration": 16,
    "start_time": "2024-06-03T02:52:34.514Z"
   },
   {
    "duration": 16,
    "start_time": "2024-06-03T02:52:36.429Z"
   },
   {
    "duration": 7,
    "start_time": "2024-06-03T02:52:48.222Z"
   },
   {
    "duration": 15,
    "start_time": "2024-06-03T02:52:52.023Z"
   },
   {
    "duration": 13,
    "start_time": "2024-06-03T02:53:46.159Z"
   },
   {
    "duration": 6,
    "start_time": "2024-06-03T02:53:52.920Z"
   },
   {
    "duration": 6,
    "start_time": "2024-06-03T02:54:44.623Z"
   },
   {
    "duration": 57,
    "start_time": "2024-06-03T03:45:46.142Z"
   },
   {
    "duration": 133,
    "start_time": "2024-06-03T03:47:23.041Z"
   },
   {
    "duration": 144,
    "start_time": "2024-06-03T03:49:07.819Z"
   },
   {
    "duration": 133,
    "start_time": "2024-06-03T03:51:11.661Z"
   },
   {
    "duration": 196,
    "start_time": "2024-06-03T03:53:39.430Z"
   },
   {
    "duration": 411,
    "start_time": "2024-06-03T04:05:06.716Z"
   },
   {
    "duration": 346,
    "start_time": "2024-06-03T04:07:20.687Z"
   },
   {
    "duration": 12,
    "start_time": "2024-06-03T04:35:32.494Z"
   },
   {
    "duration": 188,
    "start_time": "2024-06-03T04:36:12.384Z"
   },
   {
    "duration": 204,
    "start_time": "2024-06-03T04:38:05.814Z"
   },
   {
    "duration": 340,
    "start_time": "2024-06-03T04:42:27.458Z"
   },
   {
    "duration": 5,
    "start_time": "2024-06-03T04:58:44.722Z"
   },
   {
    "duration": 597,
    "start_time": "2024-06-03T05:00:14.798Z"
   },
   {
    "duration": 7044,
    "start_time": "2024-06-03T05:02:11.001Z"
   },
   {
    "duration": 6,
    "start_time": "2024-06-03T05:11:01.024Z"
   },
   {
    "duration": 373,
    "start_time": "2024-06-03T05:12:00.738Z"
   },
   {
    "duration": 587,
    "start_time": "2024-06-03T05:17:22.941Z"
   },
   {
    "duration": 349,
    "start_time": "2024-06-03T05:21:05.380Z"
   },
   {
    "duration": 42,
    "start_time": "2024-06-03T05:23:03.346Z"
   },
   {
    "duration": 5,
    "start_time": "2024-06-03T05:23:28.521Z"
   },
   {
    "duration": 393,
    "start_time": "2024-06-03T05:24:02.454Z"
   },
   {
    "duration": 374,
    "start_time": "2024-06-03T05:28:09.366Z"
   },
   {
    "duration": 6,
    "start_time": "2024-06-03T05:29:12.145Z"
   },
   {
    "duration": 509,
    "start_time": "2024-06-03T05:32:51.608Z"
   },
   {
    "duration": 475,
    "start_time": "2024-06-03T05:44:55.265Z"
   },
   {
    "duration": 331,
    "start_time": "2024-06-03T05:47:21.736Z"
   },
   {
    "duration": 1030,
    "start_time": "2024-06-03T05:52:41.918Z"
   },
   {
    "duration": 287,
    "start_time": "2024-06-03T05:54:34.052Z"
   },
   {
    "duration": 29,
    "start_time": "2024-06-03T05:59:10.634Z"
   },
   {
    "duration": 4,
    "start_time": "2024-06-03T06:00:57.450Z"
   },
   {
    "duration": 1284,
    "start_time": "2024-06-03T06:01:05.645Z"
   },
   {
    "duration": 272,
    "start_time": "2024-06-03T06:01:06.932Z"
   },
   {
    "duration": 16,
    "start_time": "2024-06-03T06:01:07.209Z"
   },
   {
    "duration": 15,
    "start_time": "2024-06-03T06:01:07.229Z"
   },
   {
    "duration": 14,
    "start_time": "2024-06-03T06:01:07.247Z"
   },
   {
    "duration": 47,
    "start_time": "2024-06-03T06:01:07.264Z"
   },
   {
    "duration": 6,
    "start_time": "2024-06-03T06:01:07.315Z"
   },
   {
    "duration": 6,
    "start_time": "2024-06-03T06:01:07.324Z"
   },
   {
    "duration": 10,
    "start_time": "2024-06-03T06:01:07.333Z"
   },
   {
    "duration": 56,
    "start_time": "2024-06-03T06:01:07.351Z"
   },
   {
    "duration": 14,
    "start_time": "2024-06-03T06:01:07.411Z"
   },
   {
    "duration": 25,
    "start_time": "2024-06-03T06:01:07.428Z"
   },
   {
    "duration": 106,
    "start_time": "2024-06-03T06:01:07.456Z"
   },
   {
    "duration": 8,
    "start_time": "2024-06-03T06:01:07.565Z"
   },
   {
    "duration": 54,
    "start_time": "2024-06-03T06:01:07.577Z"
   },
   {
    "duration": 21,
    "start_time": "2024-06-03T06:01:07.634Z"
   },
   {
    "duration": 49,
    "start_time": "2024-06-03T06:01:07.658Z"
   },
   {
    "duration": 21,
    "start_time": "2024-06-03T06:01:07.710Z"
   },
   {
    "duration": 41,
    "start_time": "2024-06-03T06:01:07.734Z"
   },
   {
    "duration": 6,
    "start_time": "2024-06-03T06:01:07.806Z"
   },
   {
    "duration": 20,
    "start_time": "2024-06-03T06:01:07.816Z"
   },
   {
    "duration": 25,
    "start_time": "2024-06-03T06:01:07.839Z"
   },
   {
    "duration": 61,
    "start_time": "2024-06-03T06:01:07.869Z"
   },
   {
    "duration": 99,
    "start_time": "2024-06-03T06:01:07.932Z"
   },
   {
    "duration": 7,
    "start_time": "2024-06-03T06:01:08.034Z"
   },
   {
    "duration": 6,
    "start_time": "2024-06-03T06:01:08.044Z"
   },
   {
    "duration": 63,
    "start_time": "2024-06-03T06:01:08.053Z"
   },
   {
    "duration": 30,
    "start_time": "2024-06-03T06:01:08.127Z"
   },
   {
    "duration": 11,
    "start_time": "2024-06-03T06:01:08.160Z"
   },
   {
    "duration": 2617,
    "start_time": "2024-06-03T06:01:08.174Z"
   },
   {
    "duration": 1277,
    "start_time": "2024-06-03T06:01:10.794Z"
   },
   {
    "duration": 1960,
    "start_time": "2024-06-03T06:01:12.073Z"
   },
   {
    "duration": 19,
    "start_time": "2024-06-03T06:01:14.035Z"
   },
   {
    "duration": 10,
    "start_time": "2024-06-03T06:01:14.057Z"
   },
   {
    "duration": 28,
    "start_time": "2024-06-03T06:01:14.070Z"
   },
   {
    "duration": 19,
    "start_time": "2024-06-03T06:01:14.100Z"
   },
   {
    "duration": 17,
    "start_time": "2024-06-03T06:01:14.121Z"
   },
   {
    "duration": 170,
    "start_time": "2024-06-03T06:01:14.141Z"
   },
   {
    "duration": 374,
    "start_time": "2024-06-03T06:01:14.314Z"
   },
   {
    "duration": 252,
    "start_time": "2024-06-03T06:01:14.705Z"
   },
   {
    "duration": 351,
    "start_time": "2024-06-03T06:01:14.960Z"
   },
   {
    "duration": 7210,
    "start_time": "2024-06-03T06:01:15.314Z"
   },
   {
    "duration": 389,
    "start_time": "2024-06-03T06:01:22.527Z"
   },
   {
    "duration": 607,
    "start_time": "2024-06-03T06:01:22.920Z"
   },
   {
    "duration": 370,
    "start_time": "2024-06-03T06:01:23.529Z"
   },
   {
    "duration": 521,
    "start_time": "2024-06-03T06:01:23.902Z"
   },
   {
    "duration": 322,
    "start_time": "2024-06-03T06:01:24.426Z"
   },
   {
    "duration": 3,
    "start_time": "2024-06-03T06:01:24.765Z"
   },
   {
    "duration": 39,
    "start_time": "2024-06-03T06:01:24.774Z"
   },
   {
    "duration": 11,
    "start_time": "2024-06-03T06:01:35.426Z"
   },
   {
    "duration": 10,
    "start_time": "2024-06-03T06:05:30.606Z"
   },
   {
    "duration": 18,
    "start_time": "2024-06-03T06:19:33.781Z"
   },
   {
    "duration": 6,
    "start_time": "2024-06-03T06:20:16.078Z"
   },
   {
    "duration": 11,
    "start_time": "2024-06-03T06:25:29.757Z"
   },
   {
    "duration": 11,
    "start_time": "2024-06-03T06:25:44.376Z"
   },
   {
    "duration": 17,
    "start_time": "2024-06-03T06:28:27.158Z"
   },
   {
    "duration": 1443,
    "start_time": "2024-06-03T06:28:29.968Z"
   },
   {
    "duration": 83,
    "start_time": "2024-06-03T06:28:54.476Z"
   },
   {
    "duration": 1279,
    "start_time": "2024-06-03T06:30:17.567Z"
   },
   {
    "duration": 273,
    "start_time": "2024-06-03T06:30:18.849Z"
   },
   {
    "duration": 16,
    "start_time": "2024-06-03T06:30:19.125Z"
   },
   {
    "duration": 16,
    "start_time": "2024-06-03T06:30:19.145Z"
   },
   {
    "duration": 14,
    "start_time": "2024-06-03T06:30:19.164Z"
   },
   {
    "duration": 20,
    "start_time": "2024-06-03T06:30:19.208Z"
   },
   {
    "duration": 7,
    "start_time": "2024-06-03T06:30:19.230Z"
   },
   {
    "duration": 6,
    "start_time": "2024-06-03T06:30:19.240Z"
   },
   {
    "duration": 11,
    "start_time": "2024-06-03T06:30:19.249Z"
   },
   {
    "duration": 8,
    "start_time": "2024-06-03T06:30:19.306Z"
   },
   {
    "duration": 16,
    "start_time": "2024-06-03T06:30:19.317Z"
   },
   {
    "duration": 29,
    "start_time": "2024-06-03T06:30:19.336Z"
   },
   {
    "duration": 110,
    "start_time": "2024-06-03T06:30:19.368Z"
   },
   {
    "duration": 26,
    "start_time": "2024-06-03T06:30:19.481Z"
   },
   {
    "duration": 33,
    "start_time": "2024-06-03T06:30:19.510Z"
   },
   {
    "duration": 20,
    "start_time": "2024-06-03T06:30:19.546Z"
   },
   {
    "duration": 49,
    "start_time": "2024-06-03T06:30:19.568Z"
   },
   {
    "duration": 20,
    "start_time": "2024-06-03T06:30:19.620Z"
   },
   {
    "duration": 67,
    "start_time": "2024-06-03T06:30:19.643Z"
   },
   {
    "duration": 6,
    "start_time": "2024-06-03T06:30:19.713Z"
   },
   {
    "duration": 19,
    "start_time": "2024-06-03T06:30:19.722Z"
   },
   {
    "duration": 26,
    "start_time": "2024-06-03T06:30:19.743Z"
   },
   {
    "duration": 23,
    "start_time": "2024-06-03T06:30:19.808Z"
   },
   {
    "duration": 106,
    "start_time": "2024-06-03T06:30:19.834Z"
   },
   {
    "duration": 10,
    "start_time": "2024-06-03T06:30:19.943Z"
   },
   {
    "duration": 6,
    "start_time": "2024-06-03T06:30:19.955Z"
   },
   {
    "duration": 50,
    "start_time": "2024-06-03T06:30:19.964Z"
   },
   {
    "duration": 29,
    "start_time": "2024-06-03T06:30:20.022Z"
   },
   {
    "duration": 13,
    "start_time": "2024-06-03T06:30:20.054Z"
   },
   {
    "duration": 2566,
    "start_time": "2024-06-03T06:30:20.070Z"
   },
   {
    "duration": 1281,
    "start_time": "2024-06-03T06:30:22.638Z"
   },
   {
    "duration": 1950,
    "start_time": "2024-06-03T06:30:23.922Z"
   },
   {
    "duration": 17,
    "start_time": "2024-06-03T06:30:25.876Z"
   },
   {
    "duration": 11,
    "start_time": "2024-06-03T06:30:25.896Z"
   },
   {
    "duration": 29,
    "start_time": "2024-06-03T06:30:25.910Z"
   },
   {
    "duration": 17,
    "start_time": "2024-06-03T06:30:25.941Z"
   },
   {
    "duration": 45,
    "start_time": "2024-06-03T06:30:25.961Z"
   },
   {
    "duration": 149,
    "start_time": "2024-06-03T06:30:26.009Z"
   },
   {
    "duration": 363,
    "start_time": "2024-06-03T06:30:26.161Z"
   },
   {
    "duration": 264,
    "start_time": "2024-06-03T06:30:26.527Z"
   },
   {
    "duration": 375,
    "start_time": "2024-06-03T06:30:26.794Z"
   },
   {
    "duration": 7262,
    "start_time": "2024-06-03T06:30:27.174Z"
   },
   {
    "duration": 376,
    "start_time": "2024-06-03T06:30:34.438Z"
   },
   {
    "duration": 614,
    "start_time": "2024-06-03T06:30:34.817Z"
   },
   {
    "duration": 376,
    "start_time": "2024-06-03T06:30:35.434Z"
   },
   {
    "duration": 519,
    "start_time": "2024-06-03T06:30:35.813Z"
   },
   {
    "duration": 363,
    "start_time": "2024-06-03T06:30:36.335Z"
   },
   {
    "duration": 12,
    "start_time": "2024-06-03T06:30:36.705Z"
   },
   {
    "duration": 12,
    "start_time": "2024-06-03T06:30:36.720Z"
   },
   {
    "duration": 18,
    "start_time": "2024-06-03T06:30:36.735Z"
   },
   {
    "duration": 53,
    "start_time": "2024-06-03T06:30:36.756Z"
   },
   {
    "duration": 341,
    "start_time": "2024-06-05T01:45:39.964Z"
   },
   {
    "duration": 5130,
    "start_time": "2024-06-05T01:48:43.547Z"
   },
   {
    "duration": 390,
    "start_time": "2024-06-05T01:48:48.681Z"
   },
   {
    "duration": 15,
    "start_time": "2024-06-05T01:48:56.123Z"
   },
   {
    "duration": 16,
    "start_time": "2024-06-05T01:48:58.740Z"
   },
   {
    "duration": 7,
    "start_time": "2024-06-05T01:49:04.316Z"
   },
   {
    "duration": 1072,
    "start_time": "2024-06-05T01:49:27.555Z"
   },
   {
    "duration": 78,
    "start_time": "2024-06-05T01:50:41.425Z"
   },
   {
    "duration": 8,
    "start_time": "2024-06-05T01:50:57.955Z"
   },
   {
    "duration": 6,
    "start_time": "2024-06-05T01:51:24.457Z"
   },
   {
    "duration": 1300,
    "start_time": "2024-06-05T01:51:43.033Z"
   },
   {
    "duration": 275,
    "start_time": "2024-06-05T01:51:44.337Z"
   },
   {
    "duration": 17,
    "start_time": "2024-06-05T01:51:44.615Z"
   },
   {
    "duration": 15,
    "start_time": "2024-06-05T01:51:44.637Z"
   },
   {
    "duration": 8,
    "start_time": "2024-06-05T01:51:44.655Z"
   },
   {
    "duration": 47,
    "start_time": "2024-06-05T01:51:44.666Z"
   },
   {
    "duration": 15,
    "start_time": "2024-06-05T01:51:44.716Z"
   },
   {
    "duration": 7,
    "start_time": "2024-06-05T01:51:44.733Z"
   },
   {
    "duration": 7,
    "start_time": "2024-06-05T01:51:44.743Z"
   },
   {
    "duration": 9,
    "start_time": "2024-06-05T01:51:44.804Z"
   },
   {
    "duration": 7,
    "start_time": "2024-06-05T01:51:44.816Z"
   },
   {
    "duration": 17,
    "start_time": "2024-06-05T01:51:44.826Z"
   },
   {
    "duration": 60,
    "start_time": "2024-06-05T01:51:44.846Z"
   },
   {
    "duration": 96,
    "start_time": "2024-06-05T01:51:44.909Z"
   },
   {
    "duration": 7,
    "start_time": "2024-06-05T01:51:45.008Z"
   },
   {
    "duration": 34,
    "start_time": "2024-06-05T01:51:45.019Z"
   },
   {
    "duration": 51,
    "start_time": "2024-06-05T01:51:45.056Z"
   },
   {
    "duration": 20,
    "start_time": "2024-06-05T01:51:45.110Z"
   },
   {
    "duration": 20,
    "start_time": "2024-06-05T01:51:45.133Z"
   },
   {
    "duration": 79,
    "start_time": "2024-06-05T01:51:45.156Z"
   },
   {
    "duration": 6,
    "start_time": "2024-06-05T01:51:45.238Z"
   },
   {
    "duration": 19,
    "start_time": "2024-06-05T01:51:45.247Z"
   },
   {
    "duration": 25,
    "start_time": "2024-06-05T01:51:45.301Z"
   },
   {
    "duration": 22,
    "start_time": "2024-06-05T01:51:45.329Z"
   },
   {
    "duration": 106,
    "start_time": "2024-06-05T01:51:45.354Z"
   },
   {
    "duration": 8,
    "start_time": "2024-06-05T01:51:45.463Z"
   },
   {
    "duration": 27,
    "start_time": "2024-06-05T01:51:45.475Z"
   },
   {
    "duration": 24,
    "start_time": "2024-06-05T01:51:45.511Z"
   },
   {
    "duration": 63,
    "start_time": "2024-06-05T01:51:45.538Z"
   },
   {
    "duration": 13,
    "start_time": "2024-06-05T01:51:45.605Z"
   },
   {
    "duration": 2633,
    "start_time": "2024-06-05T01:51:45.622Z"
   },
   {
    "duration": 1278,
    "start_time": "2024-06-05T01:51:48.258Z"
   },
   {
    "duration": 2010,
    "start_time": "2024-06-05T01:51:49.539Z"
   },
   {
    "duration": 19,
    "start_time": "2024-06-05T01:51:51.551Z"
   },
   {
    "duration": 11,
    "start_time": "2024-06-05T01:51:51.573Z"
   },
   {
    "duration": 30,
    "start_time": "2024-06-05T01:51:51.587Z"
   },
   {
    "duration": 16,
    "start_time": "2024-06-05T01:51:51.620Z"
   },
   {
    "duration": 19,
    "start_time": "2024-06-05T01:51:51.638Z"
   },
   {
    "duration": 176,
    "start_time": "2024-06-05T01:51:51.660Z"
   },
   {
    "duration": 387,
    "start_time": "2024-06-05T01:51:51.839Z"
   },
   {
    "duration": 274,
    "start_time": "2024-06-05T01:51:52.229Z"
   },
   {
    "duration": 354,
    "start_time": "2024-06-05T01:51:52.506Z"
   },
   {
    "duration": 8013,
    "start_time": "2024-06-05T01:51:52.863Z"
   },
   {
    "duration": 353,
    "start_time": "2024-06-05T01:52:00.880Z"
   },
   {
    "duration": 646,
    "start_time": "2024-06-05T01:52:01.236Z"
   },
   {
    "duration": 372,
    "start_time": "2024-06-05T01:52:01.886Z"
   },
   {
    "duration": 545,
    "start_time": "2024-06-05T01:52:02.262Z"
   },
   {
    "duration": 331,
    "start_time": "2024-06-05T01:52:02.810Z"
   },
   {
    "duration": 12,
    "start_time": "2024-06-05T01:52:03.144Z"
   },
   {
    "duration": 15,
    "start_time": "2024-06-05T01:52:03.159Z"
   },
   {
    "duration": 19,
    "start_time": "2024-06-05T01:52:03.202Z"
   },
   {
    "duration": 13,
    "start_time": "2024-06-05T01:52:03.224Z"
   },
   {
    "duration": 6,
    "start_time": "2024-06-05T01:52:26.592Z"
   },
   {
    "duration": 7,
    "start_time": "2024-06-05T01:52:46.637Z"
   },
   {
    "duration": 9,
    "start_time": "2024-06-05T01:53:48.448Z"
   },
   {
    "duration": 1459,
    "start_time": "2024-06-05T01:54:07.657Z"
   },
   {
    "duration": 88,
    "start_time": "2024-06-05T01:54:27.456Z"
   },
   {
    "duration": 1324,
    "start_time": "2024-06-05T01:54:50.011Z"
   },
   {
    "duration": 274,
    "start_time": "2024-06-05T01:54:51.338Z"
   },
   {
    "duration": 17,
    "start_time": "2024-06-05T01:54:51.614Z"
   },
   {
    "duration": 18,
    "start_time": "2024-06-05T01:54:51.635Z"
   },
   {
    "duration": 46,
    "start_time": "2024-06-05T01:54:51.656Z"
   },
   {
    "duration": 15,
    "start_time": "2024-06-05T01:54:51.705Z"
   },
   {
    "duration": 17,
    "start_time": "2024-06-05T01:54:51.723Z"
   },
   {
    "duration": 5,
    "start_time": "2024-06-05T01:54:51.743Z"
   },
   {
    "duration": 51,
    "start_time": "2024-06-05T01:54:51.751Z"
   },
   {
    "duration": 9,
    "start_time": "2024-06-05T01:54:51.809Z"
   },
   {
    "duration": 7,
    "start_time": "2024-06-05T01:54:51.822Z"
   },
   {
    "duration": 15,
    "start_time": "2024-06-05T01:54:51.832Z"
   },
   {
    "duration": 65,
    "start_time": "2024-06-05T01:54:51.851Z"
   },
   {
    "duration": 91,
    "start_time": "2024-06-05T01:54:51.919Z"
   },
   {
    "duration": 8,
    "start_time": "2024-06-05T01:54:52.013Z"
   },
   {
    "duration": 35,
    "start_time": "2024-06-05T01:54:52.024Z"
   },
   {
    "duration": 54,
    "start_time": "2024-06-05T01:54:52.062Z"
   },
   {
    "duration": 21,
    "start_time": "2024-06-05T01:54:52.118Z"
   },
   {
    "duration": 20,
    "start_time": "2024-06-05T01:54:52.142Z"
   },
   {
    "duration": 73,
    "start_time": "2024-06-05T01:54:52.165Z"
   },
   {
    "duration": 5,
    "start_time": "2024-06-05T01:54:52.242Z"
   },
   {
    "duration": 18,
    "start_time": "2024-06-05T01:54:52.250Z"
   },
   {
    "duration": 25,
    "start_time": "2024-06-05T01:54:52.301Z"
   },
   {
    "duration": 24,
    "start_time": "2024-06-05T01:54:52.329Z"
   },
   {
    "duration": 107,
    "start_time": "2024-06-05T01:54:52.356Z"
   },
   {
    "duration": 8,
    "start_time": "2024-06-05T01:54:52.466Z"
   },
   {
    "duration": 26,
    "start_time": "2024-06-05T01:54:52.477Z"
   },
   {
    "duration": 25,
    "start_time": "2024-06-05T01:54:52.511Z"
   },
   {
    "duration": 30,
    "start_time": "2024-06-05T01:54:52.540Z"
   },
   {
    "duration": 1054,
    "start_time": "2024-06-05T01:54:52.603Z"
   },
   {
    "duration": 0,
    "start_time": "2024-06-05T01:54:53.661Z"
   },
   {
    "duration": 0,
    "start_time": "2024-06-05T01:54:53.662Z"
   },
   {
    "duration": 0,
    "start_time": "2024-06-05T01:54:53.673Z"
   },
   {
    "duration": 0,
    "start_time": "2024-06-05T01:54:53.675Z"
   },
   {
    "duration": 0,
    "start_time": "2024-06-05T01:54:53.677Z"
   },
   {
    "duration": 0,
    "start_time": "2024-06-05T01:54:53.680Z"
   },
   {
    "duration": 0,
    "start_time": "2024-06-05T01:54:53.682Z"
   },
   {
    "duration": 0,
    "start_time": "2024-06-05T01:54:53.703Z"
   },
   {
    "duration": 0,
    "start_time": "2024-06-05T01:54:53.705Z"
   },
   {
    "duration": 0,
    "start_time": "2024-06-05T01:54:53.707Z"
   },
   {
    "duration": 0,
    "start_time": "2024-06-05T01:54:53.711Z"
   },
   {
    "duration": 0,
    "start_time": "2024-06-05T01:54:53.712Z"
   },
   {
    "duration": 0,
    "start_time": "2024-06-05T01:54:53.714Z"
   },
   {
    "duration": 0,
    "start_time": "2024-06-05T01:54:53.716Z"
   },
   {
    "duration": 0,
    "start_time": "2024-06-05T01:54:53.718Z"
   },
   {
    "duration": 0,
    "start_time": "2024-06-05T01:54:53.720Z"
   },
   {
    "duration": 0,
    "start_time": "2024-06-05T01:54:53.723Z"
   },
   {
    "duration": 0,
    "start_time": "2024-06-05T01:54:53.725Z"
   },
   {
    "duration": 0,
    "start_time": "2024-06-05T01:54:53.727Z"
   },
   {
    "duration": 0,
    "start_time": "2024-06-05T01:54:53.729Z"
   },
   {
    "duration": 0,
    "start_time": "2024-06-05T01:54:53.731Z"
   },
   {
    "duration": 0,
    "start_time": "2024-06-05T01:54:53.733Z"
   },
   {
    "duration": 7,
    "start_time": "2024-06-05T01:56:30.408Z"
   },
   {
    "duration": 7,
    "start_time": "2024-06-05T01:56:44.093Z"
   },
   {
    "duration": 39,
    "start_time": "2024-06-05T04:04:53.730Z"
   },
   {
    "duration": 7,
    "start_time": "2024-06-05T04:05:10.281Z"
   },
   {
    "duration": 1365,
    "start_time": "2024-06-05T04:09:46.182Z"
   },
   {
    "duration": 283,
    "start_time": "2024-06-05T04:09:47.551Z"
   },
   {
    "duration": 16,
    "start_time": "2024-06-05T04:09:47.837Z"
   },
   {
    "duration": 15,
    "start_time": "2024-06-05T04:09:47.858Z"
   },
   {
    "duration": 38,
    "start_time": "2024-06-05T04:09:47.877Z"
   },
   {
    "duration": 15,
    "start_time": "2024-06-05T04:09:47.918Z"
   },
   {
    "duration": 16,
    "start_time": "2024-06-05T04:09:47.936Z"
   },
   {
    "duration": 5,
    "start_time": "2024-06-05T04:09:47.955Z"
   },
   {
    "duration": 6,
    "start_time": "2024-06-05T04:09:48.003Z"
   },
   {
    "duration": 9,
    "start_time": "2024-06-05T04:09:48.016Z"
   },
   {
    "duration": 6,
    "start_time": "2024-06-05T04:09:48.028Z"
   },
   {
    "duration": 15,
    "start_time": "2024-06-05T04:09:48.038Z"
   },
   {
    "duration": 69,
    "start_time": "2024-06-05T04:09:48.056Z"
   },
   {
    "duration": 106,
    "start_time": "2024-06-05T04:09:48.128Z"
   },
   {
    "duration": 9,
    "start_time": "2024-06-05T04:09:48.237Z"
   },
   {
    "duration": 54,
    "start_time": "2024-06-05T04:09:48.249Z"
   },
   {
    "duration": 20,
    "start_time": "2024-06-05T04:09:48.305Z"
   },
   {
    "duration": 21,
    "start_time": "2024-06-05T04:09:48.328Z"
   },
   {
    "duration": 50,
    "start_time": "2024-06-05T04:09:48.352Z"
   },
   {
    "duration": 44,
    "start_time": "2024-06-05T04:09:48.406Z"
   },
   {
    "duration": 5,
    "start_time": "2024-06-05T04:09:48.453Z"
   },
   {
    "duration": 53,
    "start_time": "2024-06-05T04:09:48.461Z"
   },
   {
    "duration": 31,
    "start_time": "2024-06-05T04:09:48.518Z"
   },
   {
    "duration": 51,
    "start_time": "2024-06-05T04:09:48.552Z"
   },
   {
    "duration": 96,
    "start_time": "2024-06-05T04:09:48.606Z"
   },
   {
    "duration": 7,
    "start_time": "2024-06-05T04:09:48.705Z"
   },
   {
    "duration": 6,
    "start_time": "2024-06-05T04:09:48.716Z"
   },
   {
    "duration": 25,
    "start_time": "2024-06-05T04:09:48.730Z"
   },
   {
    "duration": 66,
    "start_time": "2024-06-05T04:09:48.758Z"
   },
   {
    "duration": 7,
    "start_time": "2024-06-05T04:09:48.830Z"
   },
   {
    "duration": 2555,
    "start_time": "2024-06-05T04:09:48.840Z"
   },
   {
    "duration": 1270,
    "start_time": "2024-06-05T04:09:51.398Z"
   },
   {
    "duration": 1944,
    "start_time": "2024-06-05T04:09:52.671Z"
   },
   {
    "duration": 19,
    "start_time": "2024-06-05T04:09:54.619Z"
   },
   {
    "duration": 14,
    "start_time": "2024-06-05T04:09:54.640Z"
   },
   {
    "duration": 47,
    "start_time": "2024-06-05T04:09:54.657Z"
   },
   {
    "duration": 16,
    "start_time": "2024-06-05T04:09:54.707Z"
   },
   {
    "duration": 19,
    "start_time": "2024-06-05T04:09:54.726Z"
   },
   {
    "duration": 171,
    "start_time": "2024-06-05T04:09:54.748Z"
   },
   {
    "duration": 370,
    "start_time": "2024-06-05T04:09:54.922Z"
   },
   {
    "duration": 260,
    "start_time": "2024-06-05T04:09:55.302Z"
   },
   {
    "duration": 359,
    "start_time": "2024-06-05T04:09:55.565Z"
   },
   {
    "duration": 7372,
    "start_time": "2024-06-05T04:09:55.929Z"
   },
   {
    "duration": 385,
    "start_time": "2024-06-05T04:10:03.304Z"
   },
   {
    "duration": 637,
    "start_time": "2024-06-05T04:10:03.701Z"
   },
   {
    "duration": 386,
    "start_time": "2024-06-05T04:10:04.341Z"
   },
   {
    "duration": 507,
    "start_time": "2024-06-05T04:10:04.731Z"
   },
   {
    "duration": 371,
    "start_time": "2024-06-05T04:10:05.242Z"
   },
   {
    "duration": 12,
    "start_time": "2024-06-05T04:10:05.616Z"
   },
   {
    "duration": 13,
    "start_time": "2024-06-05T04:10:05.630Z"
   },
   {
    "duration": 56,
    "start_time": "2024-06-05T04:10:05.646Z"
   },
   {
    "duration": 13,
    "start_time": "2024-06-05T04:10:05.705Z"
   }
  ],
  "colab": {
   "provenance": []
  },
  "kernelspec": {
   "display_name": "Python 3 (ipykernel)",
   "language": "python",
   "name": "python3"
  },
  "language_info": {
   "codemirror_mode": {
    "name": "ipython",
    "version": 3
   },
   "file_extension": ".py",
   "mimetype": "text/x-python",
   "name": "python",
   "nbconvert_exporter": "python",
   "pygments_lexer": "ipython3",
   "version": "3.9.19"
  },
  "toc": {
   "base_numbering": 1,
   "nav_menu": {},
   "number_sections": true,
   "sideBar": true,
   "skip_h1_title": false,
   "title_cell": "Table of Contents",
   "title_sidebar": "Contents",
   "toc_cell": false,
   "toc_position": {
    "height": "calc(100% - 180px)",
    "left": "10px",
    "top": "150px",
    "width": "257.188px"
   },
   "toc_section_display": true,
   "toc_window_display": true
  }
 },
 "nbformat": 4,
 "nbformat_minor": 1
}
